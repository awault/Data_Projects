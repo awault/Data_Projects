{
 "cells": [
  {
   "cell_type": "markdown",
   "metadata": {},
   "source": [
    "# Build a lottery app to help addicts understand the odds of winning\n",
    "\n",
    "- What is the probability of winning the grand prize with a single ticket?\n",
    "- What is the probability of winning the grand price with 40 tickets?\n",
    "- What is the probability of matching at least five of the winning numbers on a single ticket?\n",
    "\n",
    "Six numbers are drawn from a set of 49.\n",
    "\n",
    "Numbers range from 1 to 49.\n",
    "\n",
    "Numbers are drawn without replacement.\n",
    "\n"
   ]
  },
  {
   "cell_type": "code",
   "execution_count": 1,
   "metadata": {},
   "outputs": [],
   "source": [
    "import pandas as pd"
   ]
  },
  {
   "cell_type": "code",
   "execution_count": 2,
   "metadata": {},
   "outputs": [],
   "source": [
    "# Define a Function to Calculate Factorials\n",
    "\n",
    "def factorial(n):\n",
    "    if n == 0:\n",
    "        return 1\n",
    "    else:\n",
    "        return n * factorial(n-1)"
   ]
  },
  {
   "cell_type": "code",
   "execution_count": 3,
   "metadata": {},
   "outputs": [],
   "source": [
    "# Define a Function to Calculate Combinations\n",
    "\n",
    "def combinations(n,k):\n",
    "    return factorial(n) / (factorial(k) * factorial(n-k))"
   ]
  },
  {
   "cell_type": "code",
   "execution_count": 4,
   "metadata": {},
   "outputs": [],
   "source": [
    "# Define a function to calculate the probability of winning the Grand Prize for any single ticket.\n",
    "\n",
    "def single_ticket_probability(list_num,set_size = 49):\n",
    "    num_combinations = combinations(set_size,len(list_num))\n",
    "    probability = 1 / num_combinations * 100\n",
    "    \n",
    "    print(f'The probability of winning the grand prize with numbers {list_num} is {probability:.7f}%.')\n",
    "    print()\n",
    "    print(f'The chance of winning is 1 in {int(num_combinations):,}.')"
   ]
  },
  {
   "cell_type": "code",
   "execution_count": 5,
   "metadata": {},
   "outputs": [
    {
     "name": "stdout",
     "output_type": "stream",
     "text": [
      "The probability of winning the grand prize with numbers [1, 2, 3, 4, 5, 6] is 0.0000072%.\n",
      "\n",
      "The chance of winning is 1 in 13,983,816.\n"
     ]
    }
   ],
   "source": [
    "ticket = [1,2,3,4,5,6]\n",
    "\n",
    "single_ticket_probability(ticket)"
   ]
  },
  {
   "cell_type": "code",
   "execution_count": 6,
   "metadata": {},
   "outputs": [],
   "source": [
    "def custom_date_parser(date):\n",
    "    return pd.to_datetime(date, format='%m/%d/%Y')"
   ]
  },
  {
   "cell_type": "code",
   "execution_count": 7,
   "metadata": {},
   "outputs": [],
   "source": [
    "# Define a Function to Parse Dates\n",
    "\n",
    "def custom_date_parser(date):\n",
    "    return pd.to_datetime(date, format='%m/%d/%Y')\n",
    "\n",
    "# Import the Data\n",
    "\n",
    "lotto_data = pd.read_csv('649.csv', parse_dates=['DRAW DATE'],date_parser=custom_date_parser)"
   ]
  },
  {
   "cell_type": "code",
   "execution_count": 8,
   "metadata": {},
   "outputs": [
    {
     "data": {
      "text/html": [
       "<div>\n",
       "<style scoped>\n",
       "    .dataframe tbody tr th:only-of-type {\n",
       "        vertical-align: middle;\n",
       "    }\n",
       "\n",
       "    .dataframe tbody tr th {\n",
       "        vertical-align: top;\n",
       "    }\n",
       "\n",
       "    .dataframe thead th {\n",
       "        text-align: right;\n",
       "    }\n",
       "</style>\n",
       "<table border=\"1\" class=\"dataframe\">\n",
       "  <thead>\n",
       "    <tr style=\"text-align: right;\">\n",
       "      <th></th>\n",
       "      <th>PRODUCT</th>\n",
       "      <th>DRAW NUMBER</th>\n",
       "      <th>SEQUENCE NUMBER</th>\n",
       "      <th>DRAW DATE</th>\n",
       "      <th>NUMBER DRAWN 1</th>\n",
       "      <th>NUMBER DRAWN 2</th>\n",
       "      <th>NUMBER DRAWN 3</th>\n",
       "      <th>NUMBER DRAWN 4</th>\n",
       "      <th>NUMBER DRAWN 5</th>\n",
       "      <th>NUMBER DRAWN 6</th>\n",
       "      <th>BONUS NUMBER</th>\n",
       "    </tr>\n",
       "  </thead>\n",
       "  <tbody>\n",
       "    <tr>\n",
       "      <th>0</th>\n",
       "      <td>649</td>\n",
       "      <td>1</td>\n",
       "      <td>0</td>\n",
       "      <td>1982-06-12</td>\n",
       "      <td>3</td>\n",
       "      <td>11</td>\n",
       "      <td>12</td>\n",
       "      <td>14</td>\n",
       "      <td>41</td>\n",
       "      <td>43</td>\n",
       "      <td>13</td>\n",
       "    </tr>\n",
       "    <tr>\n",
       "      <th>1</th>\n",
       "      <td>649</td>\n",
       "      <td>2</td>\n",
       "      <td>0</td>\n",
       "      <td>1982-06-19</td>\n",
       "      <td>8</td>\n",
       "      <td>33</td>\n",
       "      <td>36</td>\n",
       "      <td>37</td>\n",
       "      <td>39</td>\n",
       "      <td>41</td>\n",
       "      <td>9</td>\n",
       "    </tr>\n",
       "    <tr>\n",
       "      <th>2</th>\n",
       "      <td>649</td>\n",
       "      <td>3</td>\n",
       "      <td>0</td>\n",
       "      <td>1982-06-26</td>\n",
       "      <td>1</td>\n",
       "      <td>6</td>\n",
       "      <td>23</td>\n",
       "      <td>24</td>\n",
       "      <td>27</td>\n",
       "      <td>39</td>\n",
       "      <td>34</td>\n",
       "    </tr>\n",
       "  </tbody>\n",
       "</table>\n",
       "</div>"
      ],
      "text/plain": [
       "   PRODUCT  DRAW NUMBER  SEQUENCE NUMBER  DRAW DATE  NUMBER DRAWN 1  \\\n",
       "0      649            1                0 1982-06-12               3   \n",
       "1      649            2                0 1982-06-19               8   \n",
       "2      649            3                0 1982-06-26               1   \n",
       "\n",
       "   NUMBER DRAWN 2  NUMBER DRAWN 3  NUMBER DRAWN 4  NUMBER DRAWN 5  \\\n",
       "0              11              12              14              41   \n",
       "1              33              36              37              39   \n",
       "2               6              23              24              27   \n",
       "\n",
       "   NUMBER DRAWN 6  BONUS NUMBER  \n",
       "0              43            13  \n",
       "1              41             9  \n",
       "2              39            34  "
      ]
     },
     "execution_count": 8,
     "metadata": {},
     "output_type": "execute_result"
    }
   ],
   "source": [
    "lotto_data.head(3)"
   ]
  },
  {
   "cell_type": "code",
   "execution_count": 9,
   "metadata": {},
   "outputs": [
    {
     "name": "stdout",
     "output_type": "stream",
     "text": [
      "<class 'pandas.core.frame.DataFrame'>\n",
      "RangeIndex: 3665 entries, 0 to 3664\n",
      "Data columns (total 11 columns):\n",
      " #   Column           Non-Null Count  Dtype         \n",
      "---  ------           --------------  -----         \n",
      " 0   PRODUCT          3665 non-null   int64         \n",
      " 1   DRAW NUMBER      3665 non-null   int64         \n",
      " 2   SEQUENCE NUMBER  3665 non-null   int64         \n",
      " 3   DRAW DATE        3665 non-null   datetime64[ns]\n",
      " 4   NUMBER DRAWN 1   3665 non-null   int64         \n",
      " 5   NUMBER DRAWN 2   3665 non-null   int64         \n",
      " 6   NUMBER DRAWN 3   3665 non-null   int64         \n",
      " 7   NUMBER DRAWN 4   3665 non-null   int64         \n",
      " 8   NUMBER DRAWN 5   3665 non-null   int64         \n",
      " 9   NUMBER DRAWN 6   3665 non-null   int64         \n",
      " 10  BONUS NUMBER     3665 non-null   int64         \n",
      "dtypes: datetime64[ns](1), int64(10)\n",
      "memory usage: 315.1 KB\n"
     ]
    }
   ],
   "source": [
    "lotto_data.info()\n",
    "\n"
   ]
  },
  {
   "cell_type": "code",
   "execution_count": 10,
   "metadata": {},
   "outputs": [],
   "source": [
    "# Define a function to extract historical winning numbers\n",
    "\n",
    "def extract_winning_num(row):\n",
    "    return set(row[4:10].values)\n",
    "\n",
    "\n",
    "winning_nums = lotto_data.apply(extract_winning_num,axis=1)"
   ]
  },
  {
   "cell_type": "code",
   "execution_count": 11,
   "metadata": {},
   "outputs": [
    {
     "data": {
      "text/plain": [
       "0    {3, 41, 11, 12, 43, 14}\n",
       "1    {33, 36, 37, 39, 8, 41}\n",
       "2     {1, 6, 39, 23, 24, 27}\n",
       "3     {3, 9, 10, 43, 13, 20}\n",
       "4    {34, 5, 14, 47, 21, 31}\n",
       "dtype: object"
      ]
     },
     "execution_count": 11,
     "metadata": {},
     "output_type": "execute_result"
    }
   ],
   "source": [
    "winning_nums.head()"
   ]
  },
  {
   "cell_type": "code",
   "execution_count": 36,
   "metadata": {},
   "outputs": [],
   "source": [
    "# Write a Function to Check Historical Data\n",
    "\n",
    "def check_historical_nums(list_num, historical_winners = winning_nums):\n",
    "    list_num = set(list_num)\n",
    "    compare_sets = list_num == historical_winners\n",
    "    sum_instances = compare_sets.sum()\n",
    "    noun = 'occasion' if sum_instances == 1 else 'occasions'\n",
    "    \n",
    "    if sum_instances == 0:\n",
    "        print(f\"The combination {list_num} has never occured.\")\n",
    "        print()\n",
    "        print(f\"This doesn't change your chances of winning.\")\n",
    "        print()\n",
    "        print(f'The odds of winning the Grand Prize for any single ticket is 1 in 13,983,816.')\n",
    "    else:\n",
    "        print(f\"The combination of {list_num} has occurred in the past on {sum_instances} {noun}.\")\n",
    "        print()\n",
    "        print(f\"This doesn't change your chances of winning.\")\n",
    "        print()\n",
    "        print(f'The odds of winning the Grand Prize for any single ticket is 1 in 13,983,816.')"
   ]
  },
  {
   "cell_type": "code",
   "execution_count": 37,
   "metadata": {},
   "outputs": [
    {
     "name": "stdout",
     "output_type": "stream",
     "text": [
      "The combination of {34, 5, 14, 47, 21, 31} has occurred in the past on 1 occasion.\n",
      "\n",
      "This doesn't change your chances of winning.\n",
      "\n",
      "The odds of winning the Grand Prize for any single ticket is 1 in 13,983,816.\n"
     ]
    }
   ],
   "source": [
    "check_historical_nums([34, 5, 14, 47, 21, 31])"
   ]
  },
  {
   "cell_type": "code",
   "execution_count": 49,
   "metadata": {},
   "outputs": [],
   "source": [
    "def multi_ticket_probability(num_tickets):\n",
    "    num_combinations = int(combinations(49,6))\n",
    "    prob = num_tickets / num_combinations\n",
    "    simplified = round(num_combinations/num_tickets)\n",
    "\n",
    "    if num_tickets == 1:\n",
    "        print(f\"The odds of winning the Grand Prize with 1 ticket are 1 in {num_combinations:,}.\")\n",
    "\n",
    "    else:\n",
    "        print(f\"The odds of winning the Grand Prize with {num_tickets:,} different tickets is 1 in {simplified:,}.\")"
   ]
  },
  {
   "cell_type": "code",
   "execution_count": 50,
   "metadata": {},
   "outputs": [
    {
     "name": "stdout",
     "output_type": "stream",
     "text": [
      "The odds of winning the Grand Prize with 2 different tickets is 1 in 6,991,908.\n"
     ]
    }
   ],
   "source": [
    "multi_ticket_probability(2)"
   ]
  },
  {
   "cell_type": "code",
   "execution_count": 54,
   "metadata": {},
   "outputs": [
    {
     "name": "stdout",
     "output_type": "stream",
     "text": [
      "The odds of winning the Grand Prize with 1 ticket are 1 in 13,983,816.\n",
      "---------------------------------------\n",
      "The odds of winning the Grand Prize with 10 different tickets is 1 in 1,398,382.\n",
      "---------------------------------------\n",
      "The odds of winning the Grand Prize with 100 different tickets is 1 in 139,838.\n",
      "---------------------------------------\n",
      "The odds of winning the Grand Prize with 1,000 different tickets is 1 in 13,984.\n",
      "---------------------------------------\n",
      "The odds of winning the Grand Prize with 1,000,000 different tickets is 1 in 14.\n",
      "---------------------------------------\n",
      "The odds of winning the Grand Prize with 5,000,000 different tickets is 1 in 3.\n",
      "---------------------------------------\n"
     ]
    }
   ],
   "source": [
    "test_cases = [1,10,100,1000,1000000,5000000]\n",
    "\n",
    "for num in test_cases:\n",
    "    multi_ticket_probability(num)\n",
    "    print('---------------------------------------')"
   ]
  },
  {
   "cell_type": "code",
   "execution_count": 62,
   "metadata": {},
   "outputs": [],
   "source": [
    "def matching_odds(num_matches):\n",
    "    n_combinations_ticket = combinations(6, num_matches)\n",
    "    n_combinations_remaining = combinations(43, 6 - num_matches)\n",
    "    successful_outcomes = n_combinations_ticket * n_combinations_remaining\n",
    "    \n",
    "    n_combinations_total = combinations(49, 6)    \n",
    "    probability = successful_outcomes / n_combinations_total\n",
    "    \n",
    "    probability_percentage = probability * 100    \n",
    "    combinations_simplified = round(n_combinations_total/successful_outcomes)    \n",
    "    print(f\"The odds chances of having {num_matches:,} matching numbers with this ticket are 1 in {combinations_simplified:,}\")"
   ]
  },
  {
   "cell_type": "code",
   "execution_count": 63,
   "metadata": {},
   "outputs": [
    {
     "name": "stdout",
     "output_type": "stream",
     "text": [
      "The odds chances of having 2 matching numbers with this ticket are 1 in 8\n",
      "-----------------------------------\n",
      "The odds chances of having 3 matching numbers with this ticket are 1 in 57\n",
      "-----------------------------------\n",
      "The odds chances of having 4 matching numbers with this ticket are 1 in 1,032\n",
      "-----------------------------------\n",
      "The odds chances of having 5 matching numbers with this ticket are 1 in 54,201\n",
      "-----------------------------------\n",
      "The odds chances of having 6 matching numbers with this ticket are 1 in 13,983,816\n",
      "-----------------------------------\n"
     ]
    }
   ],
   "source": [
    "test_cases = [2,3,4,5,6]\n",
    "\n",
    "for num in test_cases:\n",
    "    matching_odds(num)\n",
    "    print('-----------------------------------')"
   ]
  },
  {
   "cell_type": "code",
   "execution_count": null,
   "metadata": {},
   "outputs": [],
   "source": []
  }
 ],
 "metadata": {
  "kernelspec": {
   "display_name": "py3_9",
   "language": "python",
   "name": "python3"
  },
  "language_info": {
   "codemirror_mode": {
    "name": "ipython",
    "version": 3
   },
   "file_extension": ".py",
   "mimetype": "text/x-python",
   "name": "python",
   "nbconvert_exporter": "python",
   "pygments_lexer": "ipython3",
   "version": "3.9.13"
  }
 },
 "nbformat": 4,
 "nbformat_minor": 2
}
