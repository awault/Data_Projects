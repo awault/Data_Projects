{
 "cells": [
  {
   "attachments": {},
   "cell_type": "markdown",
   "metadata": {},
   "source": [
    "# Project 2: Profiles of Profitable Apps"
   ]
  },
  {
   "attachments": {},
   "cell_type": "markdown",
   "metadata": {},
   "source": [
    "Objective: Analyze data from Google Play and Apples App Store to determine which type of free apps are most likely to attract a high volume of users. Make a recommendation of the best app categories to target for free apps with an ad-based revenue model."
   ]
  },
  {
   "attachments": {},
   "cell_type": "markdown",
   "metadata": {},
   "source": [
    "## Import Modules"
   ]
  },
  {
   "cell_type": "code",
   "execution_count": 9,
   "metadata": {},
   "outputs": [],
   "source": [
    "from csv import reader"
   ]
  },
  {
   "attachments": {},
   "cell_type": "markdown",
   "metadata": {},
   "source": [
    "## Collect Data\n",
    "\n",
    "The data for this analysis was provided in csv files. Define a function to read the data from csv files. Create an option to preview the headers and view the first three rows of data."
   ]
  },
  {
   "cell_type": "code",
   "execution_count": 10,
   "metadata": {},
   "outputs": [],
   "source": [
    "def read_csv(file_name, preview=False):\n",
    "    with open(file_name,'r') as opened_file:\n",
    "        read_file = reader(opened_file)\n",
    "        all_rows = list(read_file)\n",
    "        header = all_rows[0]\n",
    "        data = all_rows[1:]\n",
    "        if preview:\n",
    "            print(\"Header:\", header)\n",
    "            for row in data[:3]:\n",
    "                print(row)\n",
    "        else:\n",
    "            return data"
   ]
  },
  {
   "attachments": {},
   "cell_type": "markdown",
   "metadata": {},
   "source": [
    "### Google Play Store\n",
    "\n",
    "The dataset for the Google Play Store was obtained from [Kaggle](https://www.kaggle.com/datasets/lava18/google-play-store-apps). \n",
    "\n",
    "The dataset contains 13 fields, a brief definition for each field is included below:\n",
    "\n",
    "\n",
    "1. App: Application Name\n",
    "1. Category: Application Category\n",
    "1. Rating: Overall User Rating \n",
    "1. Reviews: Number of User Reviews\n",
    "1. Size: Size of the App\n",
    "1. Installs: Number of User Downloads\n",
    "1. Type: Paid or Free\n",
    "1. Price: Price in USD\n",
    "1. Content Rating: Target Age Group\n",
    "1. Genres: Apps can be Classified in Multiple Genres\n",
    "1. Last Updated: Date of Last Update\n",
    "1. Current Version: Name of Current Version\n",
    "1. Android Version: Minimum Android Version Required \n",
    "\n",
    "\n",
    "\n",
    "\n",
    " \n"
   ]
  },
  {
   "cell_type": "code",
   "execution_count": 14,
   "metadata": {},
   "outputs": [
    {
     "name": "stdout",
     "output_type": "stream",
     "text": [
      "Header: ['App', 'Category', 'Rating', 'Reviews', 'Size', 'Installs', 'Type', 'Price', 'Content Rating', 'Genres', 'Last Updated', 'Current Ver', 'Android Ver']\n",
      "['Photo Editor & Candy Camera & Grid & ScrapBook', 'ART_AND_DESIGN', '4.1', '159', '19M', '10,000+', 'Free', '0', 'Everyone', 'Art & Design', 'January 7, 2018', '1.0.0', '4.0.3 and up']\n",
      "['Coloring book moana', 'ART_AND_DESIGN', '3.9', '967', '14M', '500,000+', 'Free', '0', 'Everyone', 'Art & Design;Pretend Play', 'January 15, 2018', '2.0.0', '4.0.3 and up']\n",
      "['U Launcher Lite – FREE Live Cool Themes, Hide Apps', 'ART_AND_DESIGN', '4.7', '87510', '8.7M', '5,000,000+', 'Free', '0', 'Everyone', 'Art & Design', 'August 1, 2018', '1.2.4', '4.0.3 and up']\n"
     ]
    }
   ],
   "source": [
    "# Preview the data from Google Play Store\n",
    "read_csv('googleplaystore.csv',preview=True)\n",
    "# Assign the data to the variable android\n",
    "android = read_csv('googleplaystore.csv')"
   ]
  },
  {
   "cell_type": "code",
   "execution_count": 15,
   "metadata": {},
   "outputs": [
    {
     "name": "stdout",
     "output_type": "stream",
     "text": [
      "Header: ['id', 'track_name', 'size_bytes', 'currency', 'price', 'rating_count_tot', 'rating_count_ver', 'user_rating', 'user_rating_ver', 'ver', 'cont_rating', 'prime_genre', 'sup_devices.num', 'ipadSc_urls.num', 'lang.num', 'vpp_lic']\n",
      "['284882215', 'Facebook', '389879808', 'USD', '0.0', '2974676', '212', '3.5', '3.5', '95.0', '4+', 'Social Networking', '37', '1', '29', '1']\n",
      "['389801252', 'Instagram', '113954816', 'USD', '0.0', '2161558', '1289', '4.5', '4.0', '10.23', '12+', 'Photo & Video', '37', '0', '29', '1']\n",
      "['529479190', 'Clash of Clans', '116476928', 'USD', '0.0', '2130805', '579', '4.5', '4.5', '9.24.12', '9+', 'Games', '38', '5', '18', '1']\n"
     ]
    }
   ],
   "source": [
    "# Preview the data from the Apple App Store\n",
    "read_csv('AppleStore.csv',preview=True)\n",
    "# Assign the data to the variable apple\n",
    "apple = read_csv('AppleStore.csv')"
   ]
  },
  {
   "attachments": {},
   "cell_type": "markdown",
   "metadata": {},
   "source": [
    "# Cleaning the Data \n",
    "\n",
    "Determine which data will be useful for the analysis. Transform the data into the format that is most suitable."
   ]
  },
  {
   "cell_type": "code",
   "execution_count": 25,
   "metadata": {},
   "outputs": [
    {
     "name": "stdout",
     "output_type": "stream",
     "text": [
      "Apple App Store Records: 7197\n",
      "Google Play Store Records: 10841\n"
     ]
    }
   ],
   "source": [
    "# Examine the number of records in each data set\n",
    "print(f'Apple App Store Records: {len(apple)}')\n",
    "print(f'Google Play Store Records: {len(android)}')"
   ]
  },
  {
   "cell_type": "code",
   "execution_count": null,
   "metadata": {},
   "outputs": [],
   "source": []
  },
  {
   "cell_type": "markdown",
   "metadata": {},
   "source": []
  }
 ],
 "metadata": {
  "kernelspec": {
   "display_name": "python_3_9",
   "language": "python",
   "name": "python3"
  },
  "language_info": {
   "codemirror_mode": {
    "name": "ipython",
    "version": 3
   },
   "file_extension": ".py",
   "mimetype": "text/x-python",
   "name": "python",
   "nbconvert_exporter": "python",
   "pygments_lexer": "ipython3",
   "version": "3.9.16"
  },
  "orig_nbformat": 4,
  "vscode": {
   "interpreter": {
    "hash": "7b89c0a7677ae521a95b817fb5e6f45a2b4bf83a1a8a680efa77820fe0e20e0b"
   }
  }
 },
 "nbformat": 4,
 "nbformat_minor": 2
}
