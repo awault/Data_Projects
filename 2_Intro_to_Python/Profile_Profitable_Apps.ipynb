{
 "cells": [
  {
   "attachments": {},
   "cell_type": "markdown",
   "metadata": {},
   "source": [
    "# Project 2: Profiles of Profitable Apps\n",
    "\n",
    "Objective: Analyze data from Google Play and Apples App Store to determine which types of free apps are most likely to attract a high volume of users. Make a recommendation for the best app categories to target with free apps utilizing an ad-based revenue model."
   ]
  },
  {
   "attachments": {},
   "cell_type": "markdown",
   "metadata": {},
   "source": [
    "## Import Modules"
   ]
  },
  {
   "cell_type": "code",
   "execution_count": 1,
   "metadata": {},
   "outputs": [],
   "source": [
    "from csv import reader\n",
    "import matplotlib as mpl\n",
    "import matplotlib.pyplot as plt"
   ]
  },
  {
   "attachments": {},
   "cell_type": "markdown",
   "metadata": {},
   "source": [
    "## Import Data\n",
    "\n",
    "The data for this analysis was provided in csv files. Define a function to read the data from csv files. Create an option to preview the headers and view the first two rows of data. Determine the number of rows and columns in each dataset."
   ]
  },
  {
   "cell_type": "code",
   "execution_count": 2,
   "metadata": {},
   "outputs": [],
   "source": [
    "# Define a function to read data from csv files\n",
    "\n",
    "def read_csv(file_name, preview=False):\n",
    "    with open(file_name,'r') as opened_file:\n",
    "        read_file = reader(opened_file)\n",
    "        all_rows = list(read_file)\n",
    "        header = all_rows[0]\n",
    "        data = all_rows[1:]\n",
    "        if preview:\n",
    "            print(\"Headers:\", header)\n",
    "            print('\\n')\n",
    "            for row in data[:2]:\n",
    "                print(row)\n",
    "                print('\\n')\n",
    "            print('\\n')\n",
    "            print(\"Number of Rows: \", len(data))\n",
    "            print('\\n')\n",
    "            print(\"Number of Columns: \", len(header))\n",
    "        else:\n",
    "            return all_rows"
   ]
  },
  {
   "attachments": {},
   "cell_type": "markdown",
   "metadata": {},
   "source": [
    "### Google Play Store\n",
    "\n",
    "The dataset for the Google Play Store was obtained from [Kaggle](https://www.kaggle.com/datasets/lava18/google-play-store-apps). \n",
    "\n",
    "The dataset contains 13 fields, a brief definition for each field is included below:\n",
    "\n",
    "\n",
    "1. 'App' : Application Name\n",
    "1. 'Category' : Application Category\n",
    "1. 'Rating' : Overall User Rating \n",
    "1. 'Reviews' : Number of User Reviews\n",
    "1. 'Size' : Size of the App\n",
    "1. 'Installs' : Number of User Downloads\n",
    "1. 'Type' : Paid or Free\n",
    "1. 'Price' : Price in USD\n",
    "1. 'Content Rating' : Target Age Group\n",
    "1. 'Genres' : Apps can be Classified in Multiple Genres\n",
    "1. 'Last Updated' : Date of Last Update\n",
    "1. 'Current Version' : Name of Current Version\n",
    "1. 'Android Version' : Minimum Android Version Required \n",
    "\n",
    "\n",
    "\n",
    "\n",
    " \n"
   ]
  },
  {
   "cell_type": "code",
   "execution_count": 3,
   "metadata": {},
   "outputs": [
    {
     "name": "stdout",
     "output_type": "stream",
     "text": [
      "Headers: ['App', 'Category', 'Rating', 'Reviews', 'Size', 'Installs', 'Type', 'Price', 'Content Rating', 'Genres', 'Last Updated', 'Current Ver', 'Android Ver']\n",
      "\n",
      "\n",
      "['Photo Editor & Candy Camera & Grid & ScrapBook', 'ART_AND_DESIGN', '4.1', '159', '19M', '10,000+', 'Free', '0', 'Everyone', 'Art & Design', 'January 7, 2018', '1.0.0', '4.0.3 and up']\n",
      "\n",
      "\n",
      "['Coloring book moana', 'ART_AND_DESIGN', '3.9', '967', '14M', '500,000+', 'Free', '0', 'Everyone', 'Art & Design;Pretend Play', 'January 15, 2018', '2.0.0', '4.0.3 and up']\n",
      "\n",
      "\n",
      "\n",
      "\n",
      "Number of Rows:  10841\n",
      "\n",
      "\n",
      "Number of Columns:  13\n",
      "\n",
      "\n",
      "Data Type: <class 'list'>\n"
     ]
    }
   ],
   "source": [
    "# Preview the data from Google Play Store\n",
    "read_csv('googleplaystore.csv',preview=True)\n",
    "# Assign the data to the variable android\n",
    "android = read_csv('googleplaystore.csv')\n",
    "print('\\n')\n",
    "# Examine the data type\n",
    "print(f'Data Type: {type(android)}')"
   ]
  },
  {
   "attachments": {},
   "cell_type": "markdown",
   "metadata": {},
   "source": [
    "### Apple App Store\n",
    "\n",
    "The dataset for the Apple App Store was also obtained from [Kaggle](https://www.kaggle.com/datasets/ramamet4/app-store-apple-data-set-10k-apps). \n",
    "\n",
    "The dataset contains 16 fields, a brief definition for each field is included below:\n",
    "\n",
    "1. 'id' : App ID\n",
    "1. 'track_name' : App Name\n",
    "1. 'size_bytes' : Download Size in Bytes\n",
    "1. 'currency' : Transaction Currency Used\n",
    "1. 'price' : Purchase Price\n",
    "1. 'rating_count_tot' : User Rating Counts (All Versions)\n",
    "1. 'rating_count_ver' : User Rating Counts (Current Version)\n",
    "1. 'user_rating' : Average User Rating (All Versions)\n",
    "1. 'user_rating_ver' : Average User Rating (Current Version)\n",
    "1. 'ver' : Latest Version Code\n",
    "1. 'cont_rating' : Target Age Group\n",
    "1. 'prime_genre' : Primary Genre\n",
    "1. 'sup_devices.num' : Number of Devices Supported\n",
    "1. 'ipadSc_urls.num' : Number of Screenshots Displayed\n",
    "1. 'lang.num' : Number of Supported Languages\n",
    "1. 'vpp_lic' : VPP Device based Licensing Enabled \n"
   ]
  },
  {
   "cell_type": "code",
   "execution_count": 4,
   "metadata": {},
   "outputs": [
    {
     "name": "stdout",
     "output_type": "stream",
     "text": [
      "Headers: ['id', 'track_name', 'size_bytes', 'currency', 'price', 'rating_count_tot', 'rating_count_ver', 'user_rating', 'user_rating_ver', 'ver', 'cont_rating', 'prime_genre', 'sup_devices.num', 'ipadSc_urls.num', 'lang.num', 'vpp_lic']\n",
      "\n",
      "\n",
      "['284882215', 'Facebook', '389879808', 'USD', '0.0', '2974676', '212', '3.5', '3.5', '95.0', '4+', 'Social Networking', '37', '1', '29', '1']\n",
      "\n",
      "\n",
      "['389801252', 'Instagram', '113954816', 'USD', '0.0', '2161558', '1289', '4.5', '4.0', '10.23', '12+', 'Photo & Video', '37', '0', '29', '1']\n",
      "\n",
      "\n",
      "\n",
      "\n",
      "Number of Rows:  7197\n",
      "\n",
      "\n",
      "Number of Columns:  16\n",
      "\n",
      "\n",
      "Data Type: <class 'list'>\n"
     ]
    }
   ],
   "source": [
    "# Preview the data from the Apple App Store\n",
    "read_csv('AppleStore.csv',preview=True)\n",
    "# Assign the data to the variable apple\n",
    "apple = read_csv('AppleStore.csv')\n",
    "print('\\n')\n",
    "# Examine the data type\n",
    "print(f'Data Type: {type(apple)}')"
   ]
  },
  {
   "attachments": {},
   "cell_type": "markdown",
   "metadata": {},
   "source": [
    "# Cleaning the Data \n",
    "\n",
    "* Determine which fields(columns) will be useful for the analysis. \n",
    "\n",
    "* Transform the data into the format which is most suitable.\n",
    "\n",
    "* Remove duplicate entries and invalid records. "
   ]
  },
  {
   "attachments": {},
   "cell_type": "markdown",
   "metadata": {},
   "source": [
    "### Identifying Useful Data\n",
    "\n",
    "In the previous section, we imported the data and reviewed the structure of each dataset. Now, lets identify which columns will be useful for our analysis.\n",
    "\n",
    "As a reminder, we want to identify the types of free apps most likely to attract alot of users.\n",
    "\n",
    "Since the two datasets are not identical, we should include comparable fields covered by both datasets.\n",
    "\n",
    "\n",
    "The key attributes to examine for each app are as follows:\n",
    "\n",
    "* App Name\n",
    "* App Version\n",
    "* Category / Genre\n",
    "* Content Rating\n",
    "* Number of Reviews\n",
    "* Average Rating\n",
    "* Number of Installs\n",
    "* Price in USD\n",
    "* Free or Paid\n"
   ]
  },
  {
   "attachments": {},
   "cell_type": "markdown",
   "metadata": {},
   "source": [
    "#### Google Play Store"
   ]
  },
  {
   "cell_type": "code",
   "execution_count": 5,
   "metadata": {},
   "outputs": [
    {
     "name": "stdout",
     "output_type": "stream",
     "text": [
      "['App', 'Current Ver', 'Category', 'Content Rating', 'Reviews', 'Rating', 'Installs', 'Price', 'Type']\n",
      "\n",
      "\n",
      "['Photo Editor & Candy Camera & Grid & ScrapBook', '1.0.0', 'ART_AND_DESIGN', 'Everyone', '159', '4.1', '10,000+', '0', 'Free']\n",
      "\n",
      "\n"
     ]
    }
   ],
   "source": [
    "# Use List Comprehension to extract the desired columns for android dataset\n",
    "# Assign the new list to clean_android\n",
    "\n",
    "clean_android = [[col[0],col[11],col[1],col[8],col[3],col[2],col[5],col[7],col[6]] for col in android]\n",
    "\n",
    "# Print the header and first row of data to verify the results\n",
    "\n",
    "for row in clean_android[:2]:\n",
    "    print(row)\n",
    "    print('\\n')"
   ]
  },
  {
   "attachments": {},
   "cell_type": "markdown",
   "metadata": {},
   "source": [
    "#### Apple App Store"
   ]
  },
  {
   "cell_type": "code",
   "execution_count": 6,
   "metadata": {},
   "outputs": [
    {
     "name": "stdout",
     "output_type": "stream",
     "text": [
      "['track_name', 'ver', 'prime_genre', 'cont_rating', 'rating_count_ver', 'user_rating_ver', 'rating_count_tot', 'price']\n",
      "\n",
      "\n",
      "['Facebook', '95.0', 'Social Networking', '4+', '212', '3.5', '2974676', '0.0']\n",
      "\n",
      "\n"
     ]
    }
   ],
   "source": [
    "# Use list comprehension to extract the desired columns for apple dataset\n",
    "# Assign the new list to clean_apple\n",
    "\n",
    "clean_apple = [[col[1],col[9],col[11],col[10],col[6],col[8],col[5],col[4]] for col in apple]\n",
    "\n",
    "# Print the header and first row of data to verify the results\n",
    "\n",
    "for row in clean_apple[:2]:\n",
    "    print(row)\n",
    "    print('\\n')"
   ]
  },
  {
   "attachments": {},
   "cell_type": "markdown",
   "metadata": {},
   "source": [
    "### Transforming the Data\n",
    "\n",
    "* The Apple Store dataset does not contain a column to categorize apps as 'Paid' or 'Free', but we can use the price column to create this field."
   ]
  },
  {
   "cell_type": "code",
   "execution_count": 7,
   "metadata": {},
   "outputs": [
    {
     "name": "stdout",
     "output_type": "stream",
     "text": [
      "['track_name', 'ver', 'prime_genre', 'cont_rating', 'rating_count_ver', 'user_rating_ver', 'rating_count_tot', 'price', 'Type']\n"
     ]
    }
   ],
   "source": [
    "# Slice the header from the clean_apple dataset\n",
    "clean_apple_header = clean_apple[0]\n",
    "\n",
    "# Append a 'Type' column to the header row\n",
    "clean_apple_header.append('Type')\n",
    "print(clean_apple_header)"
   ]
  },
  {
   "cell_type": "code",
   "execution_count": 8,
   "metadata": {},
   "outputs": [
    {
     "name": "stdout",
     "output_type": "stream",
     "text": [
      "[['Facebook', '95.0', 'Social Networking', '4+', '212', '3.5', '2974676', '0.0'], ['Instagram', '10.23', 'Photo & Video', '12+', '1289', '4.0', '2161558', '0.0'], ['Clash of Clans', '9.24.12', 'Games', '9+', '579', '4.5', '2130805', '0.0']]\n"
     ]
    }
   ],
   "source": [
    "# Slice the data from the clean_apple dataset\n",
    "clean_apple_data = clean_apple[1:]\n",
    "print(clean_apple_data[:3])"
   ]
  },
  {
   "cell_type": "code",
   "execution_count": 9,
   "metadata": {},
   "outputs": [],
   "source": [
    "# Loop over clean_apple_data\n",
    "# If the value of price is > 0, then append 'paid' to a new column\n",
    "# Otherwise append 'free' to a new column\n",
    "\n",
    "for row in clean_apple_data:\n",
    "    p = row[-1]\n",
    "    if float(p)>0:\n",
    "        row.append('paid')\n",
    "    else:\n",
    "        row.append('free') "
   ]
  },
  {
   "cell_type": "code",
   "execution_count": 10,
   "metadata": {},
   "outputs": [
    {
     "name": "stdout",
     "output_type": "stream",
     "text": [
      "['track_name', 'ver', 'prime_genre', 'cont_rating', 'rating_count_ver', 'user_rating_ver', 'rating_count_tot', 'price', 'Type']\n"
     ]
    }
   ],
   "source": [
    "print(clean_apple_header)"
   ]
  },
  {
   "attachments": {},
   "cell_type": "markdown",
   "metadata": {},
   "source": [
    "### Removing Paid Apps \n",
    "\n",
    "For this analysis, we must identify the categories where free apps are likely to attract a large number of users. Since we are only interested in free apps, we should remove the paid apps from our dataset. Before we remove the paid apps, lets create a frequency table to evaluate the mix of 'free' vs. 'paid' apps."
   ]
  },
  {
   "attachments": {},
   "cell_type": "markdown",
   "metadata": {},
   "source": [
    "#### Google Play Store"
   ]
  },
  {
   "cell_type": "code",
   "execution_count": 11,
   "metadata": {},
   "outputs": [
    {
     "name": "stdout",
     "output_type": "stream",
     "text": [
      "[['App', 'Current Ver', 'Category', 'Content Rating', 'Reviews', 'Rating', 'Installs', 'Price', 'Type']]\n"
     ]
    }
   ],
   "source": [
    "# Isolate the data and header rows in android dataset\n",
    "android_header = clean_android[:1]\n",
    "print(android_header)\n",
    "clean_android_data = clean_android[1:]"
   ]
  },
  {
   "cell_type": "code",
   "execution_count": 19,
   "metadata": {},
   "outputs": [],
   "source": [
    "# Create a frequency table to compare paid vs. free apps in apple dataset\n",
    "\n",
    "android_freq_table = {}\n",
    "\n",
    "for row in clean_android_data:\n",
    "    type = row[-1]\n",
    "    if type in android_freq_table:\n",
    "        android_freq_table[type] += 1\n",
    "    else:\n",
    "        android_freq_table[type] = 1"
   ]
  },
  {
   "cell_type": "code",
   "execution_count": 13,
   "metadata": {},
   "outputs": [
    {
     "data": {
      "image/png": "[encoded data removed]",
      "text/plain": [
       "<Figure size 640x480 with 1 Axes>"
      ]
     },
     "metadata": {},
     "output_type": "display_data"
    },
    {
     "name": "stdout",
     "output_type": "stream",
     "text": [
      "{'Free': 10039, 'Paid': 800, 'NaN': 1, '0': 1}\n"
     ]
    }
   ],
   "source": [
    "plt.bar(android_freq_table.keys(),android_freq_table.values())\n",
    "plt.title(\"Google Play Store: Free vs. Paid\")\n",
    "plt.show()\n",
    "print(android_freq_table)"
   ]
  },
  {
   "cell_type": "code",
   "execution_count": 14,
   "metadata": {},
   "outputs": [
    {
     "name": "stdout",
     "output_type": "stream",
     "text": [
      "[['App', 'Current Ver', 'Category', 'Content Rating', 'Reviews', 'Rating', 'Installs', 'Price', 'Type']]\n",
      "\n",
      "\n",
      "[['Command & Conquer: Rivals', 'Varies with device', 'FAMILY', 'Everyone 10+', '0', 'NaN', '0', '0', 'NaN']]\n",
      "\n",
      "\n",
      "[['Life Made WI-Fi Touchscreen Photo Frame', '4.0 and up', '1.9', '', '3.0M', '19', 'Free', 'Everyone', '0']]\n"
     ]
    }
   ],
   "source": [
    "# Examine 'NaN' and '0' Value Rows, Exclude these rows due to errors\n",
    "\n",
    "not_a_num = [row for row in clean_android_data if row[-1]=='NaN']\n",
    "zero = [row for row in clean_android_data if row[-1]=='0']\n",
    "print(android_header)\n",
    "print('\\n')\n",
    "print(not_a_num)\n",
    "print('\\n')\n",
    "print(zero)"
   ]
  },
  {
   "cell_type": "code",
   "execution_count": 21,
   "metadata": {},
   "outputs": [],
   "source": [
    "# Use list comprehension to isolate the free apps \n",
    "\n",
    "android_free_apps = [row for row in clean_android_data if row[-1]=='Free']"
   ]
  },
  {
   "attachments": {},
   "cell_type": "markdown",
   "metadata": {},
   "source": [
    "#### Apple App Store"
   ]
  },
  {
   "cell_type": "code",
   "execution_count": 16,
   "metadata": {},
   "outputs": [],
   "source": [
    "# Create a frequency table to compare paid vs. free apps in apple dataset\n",
    "\n",
    "apple_freq_table = {}\n",
    "\n",
    "for row in clean_apple_data:\n",
    "    type = row[-1]\n",
    "    if type in apple_freq_table:\n",
    "        apple_freq_table[type] += 1\n",
    "    else:\n",
    "        apple_freq_table[type] = 1"
   ]
  },
  {
   "cell_type": "code",
   "execution_count": 17,
   "metadata": {},
   "outputs": [
    {
     "data": {
      "image/png": "[encoded data removed]",
      "text/plain": [
       "<Figure size 640x480 with 1 Axes>"
      ]
     },
     "metadata": {},
     "output_type": "display_data"
    },
    {
     "name": "stdout",
     "output_type": "stream",
     "text": [
      "{'free': 4056, 'paid': 3141}\n"
     ]
    }
   ],
   "source": [
    "# Generate a frequency table\n",
    "\n",
    "plt.bar(apple_freq_table.keys(),apple_freq_table.values())\n",
    "plt.title(\"Apple App Store: Free vs. Paid\")\n",
    "plt.show()\n",
    "print(apple_freq_table)"
   ]
  },
  {
   "cell_type": "code",
   "execution_count": 18,
   "metadata": {},
   "outputs": [],
   "source": [
    "# Use list comprehension to isolate the free apps \n",
    "\n",
    "apple_free_apps = [row for row in clean_apple_data if row[-1]=='free']"
   ]
  },
  {
   "cell_type": "code",
   "execution_count": null,
   "metadata": {},
   "outputs": [],
   "source": []
  }
 ],
 "metadata": {
  "kernelspec": {
   "display_name": "python_3_9",
   "language": "python",
   "name": "python3"
  },
  "language_info": {
   "codemirror_mode": {
    "name": "ipython",
    "version": 3
   },
   "file_extension": ".py",
   "mimetype": "text/x-python",
   "name": "python",
   "nbconvert_exporter": "python",
   "pygments_lexer": "ipython3",
   "version": "3.9.16"
  },
  "orig_nbformat": 4,
  "vscode": {
   "interpreter": {
    "hash": "7b89c0a7677ae521a95b817fb5e6f45a2b4bf83a1a8a680efa77820fe0e20e0b"
   }
  }
 },
 "nbformat": 4,
 "nbformat_minor": 2
}
