{
 "cells": [
  {
   "attachments": {},
   "cell_type": "markdown",
   "metadata": {},
   "source": [
    "# Project 2: Profiles of Profitable Apps\n",
    "\n",
    "Objective: Analyze data from Google Play and Apples App Store to determine which types of free apps are most likely to attract a high volume of users. Make a recommendation for the best app categories to target with free apps utilizing an ad-based revenue model."
   ]
  },
  {
   "attachments": {},
   "cell_type": "markdown",
   "metadata": {},
   "source": [
    "## Import Modules"
   ]
  },
  {
   "cell_type": "code",
   "execution_count": 1,
   "metadata": {},
   "outputs": [],
   "source": [
    "from csv import reader\n",
    "import matplotlib.pyplot as plt"
   ]
  },
  {
   "attachments": {},
   "cell_type": "markdown",
   "metadata": {},
   "source": [
    "## Import Data\n",
    "\n",
    "The data for this analysis was provided in csv files. Define a function to read the data from csv files. Create an option to preview the headers and view the first two rows of data. Determine the number of rows and columns in each dataset."
   ]
  },
  {
   "cell_type": "code",
   "execution_count": 2,
   "metadata": {},
   "outputs": [],
   "source": [
    "# Define a function to read and preview data in csv files\n",
    "\n",
    "def read_csv(file_name, preview=False):\n",
    "    with open(file_name,'r') as opened_file:\n",
    "        read_file = reader(opened_file)\n",
    "        all_rows = list(read_file)\n",
    "        header = all_rows[0]\n",
    "        data = all_rows[1:]\n",
    "        if preview:\n",
    "            print(\"Headers:\", header)\n",
    "            print('\\n')\n",
    "            for row in data[:2]:\n",
    "                print(row)\n",
    "                print('\\n')\n",
    "            print('\\n')\n",
    "            print(\"Number of Rows: \", len(data))\n",
    "            print('\\n')\n",
    "            print(\"Number of Columns: \", len(header))\n",
    "        else:\n",
    "            return all_rows"
   ]
  },
  {
   "attachments": {},
   "cell_type": "markdown",
   "metadata": {},
   "source": [
    "### Google Play Store\n",
    "\n",
    "The dataset for the Google Play Store was obtained from [Kaggle](https://www.kaggle.com/datasets/lava18/google-play-store-apps). \n",
    "\n",
    "The dataset contains 13 fields, a brief definition for each field is included below:\n",
    "\n",
    "\n",
    "1. 'App' : Application Name\n",
    "1. 'Category' : Application Category\n",
    "1. 'Rating' : Overall User Rating \n",
    "1. 'Reviews' : Number of User Reviews\n",
    "1. 'Size' : Size of the App\n",
    "1. 'Installs' : Number of User Downloads\n",
    "1. 'Type' : Paid or Free\n",
    "1. 'Price' : Price in USD\n",
    "1. 'Content Rating' : Target Age Group\n",
    "1. 'Genres' : Apps can be Classified in Multiple Genres\n",
    "1. 'Last Updated' : Date of Last Update\n",
    "1. 'Current Ver' : Name of Current Version\n",
    "1. 'Android Ver' : Minimum Android Version Required \n",
    "\n",
    "\n",
    "\n",
    "\n",
    " \n"
   ]
  },
  {
   "cell_type": "code",
   "execution_count": 3,
   "metadata": {},
   "outputs": [
    {
     "name": "stdout",
     "output_type": "stream",
     "text": [
      "Headers: ['App', 'Category', 'Rating', 'Reviews', 'Size', 'Installs', 'Type', 'Price', 'Content Rating', 'Genres', 'Last Updated', 'Current Ver', 'Android Ver']\n",
      "\n",
      "\n",
      "['Photo Editor & Candy Camera & Grid & ScrapBook', 'ART_AND_DESIGN', '4.1', '159', '19M', '10,000+', 'Free', '0', 'Everyone', 'Art & Design', 'January 7, 2018', '1.0.0', '4.0.3 and up']\n",
      "\n",
      "\n",
      "['Coloring book moana', 'ART_AND_DESIGN', '3.9', '967', '14M', '500,000+', 'Free', '0', 'Everyone', 'Art & Design;Pretend Play', 'January 15, 2018', '2.0.0', '4.0.3 and up']\n",
      "\n",
      "\n",
      "\n",
      "\n",
      "Number of Rows:  10841\n",
      "\n",
      "\n",
      "Number of Columns:  13\n",
      "\n",
      "\n"
     ]
    }
   ],
   "source": [
    "# Preview the data from Google Play Store\n",
    "read_csv('googleplaystore.csv',preview=True)\n",
    "# Assign the dataset to the variable droid\n",
    "droid = read_csv('googleplaystore.csv')\n",
    "print('\\n')"
   ]
  },
  {
   "attachments": {},
   "cell_type": "markdown",
   "metadata": {},
   "source": [
    "### Apple App Store\n",
    "\n",
    "The dataset for the Apple App Store was also obtained from [Kaggle](https://www.kaggle.com/datasets/ramamet4/app-store-apple-data-set-10k-apps). \n",
    "\n",
    "The dataset contains 16 fields, a brief definition for each field is included below:\n",
    "\n",
    "1. 'id' : App ID\n",
    "1. 'track_name' : App Name\n",
    "1. 'size_bytes' : Download Size in Bytes\n",
    "1. 'currency' : Transaction Currency Used\n",
    "1. 'price' : Purchase Price\n",
    "1. 'rating_count_tot' : User Rating Counts (All Versions)\n",
    "1. 'rating_count_ver' : User Rating Counts (Current Version)\n",
    "1. 'user_rating' : Average User Rating (All Versions)\n",
    "1. 'user_rating_ver' : Average User Rating (Current Version)\n",
    "1. 'ver' : Latest Version Code\n",
    "1. 'cont_rating' : Target Age Group\n",
    "1. 'prime_genre' : Primary Genre\n",
    "1. 'sup_devices.num' : Number of Devices Supported\n",
    "1. 'ipadSc_urls.num' : Number of Screenshots Displayed\n",
    "1. 'lang.num' : Number of Supported Languages\n",
    "1. 'vpp_lic' : VPP Device based Licensing Enabled \n"
   ]
  },
  {
   "cell_type": "code",
   "execution_count": 4,
   "metadata": {},
   "outputs": [
    {
     "name": "stdout",
     "output_type": "stream",
     "text": [
      "Headers: ['id', 'track_name', 'size_bytes', 'currency', 'price', 'rating_count_tot', 'rating_count_ver', 'user_rating', 'user_rating_ver', 'ver', 'cont_rating', 'prime_genre', 'sup_devices.num', 'ipadSc_urls.num', 'lang.num', 'vpp_lic']\n",
      "\n",
      "\n",
      "['284882215', 'Facebook', '389879808', 'USD', '0.0', '2974676', '212', '3.5', '3.5', '95.0', '4+', 'Social Networking', '37', '1', '29', '1']\n",
      "\n",
      "\n",
      "['389801252', 'Instagram', '113954816', 'USD', '0.0', '2161558', '1289', '4.5', '4.0', '10.23', '12+', 'Photo & Video', '37', '0', '29', '1']\n",
      "\n",
      "\n",
      "\n",
      "\n",
      "Number of Rows:  7197\n",
      "\n",
      "\n",
      "Number of Columns:  16\n",
      "\n",
      "\n"
     ]
    }
   ],
   "source": [
    "# Preview the data from the Apple App Store\n",
    "read_csv('AppleStore.csv',preview=True)\n",
    "# Assign the dataset to the variable ios\n",
    "ios = read_csv('AppleStore.csv')\n",
    "print('\\n')"
   ]
  },
  {
   "attachments": {},
   "cell_type": "markdown",
   "metadata": {},
   "source": [
    "# Cleaning the Data \n",
    "\n",
    "* Determine which fields(columns) will be useful for the analysis. \n",
    "\n",
    "* Transform the data into the format which is most suitable.\n",
    "\n",
    "* Remove duplicate entries and invalid records. "
   ]
  },
  {
   "attachments": {},
   "cell_type": "markdown",
   "metadata": {},
   "source": [
    "### Selecting Useful Data\n",
    "\n",
    "In the previous section, we imported the data and reviewed the structure of each dataset. Now, lets identify which columns will be useful for our analysis.\n",
    "\n",
    "*As a reminder, we want to identify which types of free apps are most likely to attract alot of users.*\n",
    "\n",
    "Although the datasets are not identical, we will include the most comparable fields.\n",
    "\n",
    "\n",
    "The fields of interest are as follows:\n",
    "\n",
    "| Field Description   | Google Dataset    | Apple Dataset  |\n",
    "|---------------------|-------------------|--------------- |\n",
    "| App Name            |App                |track_name      |\n",
    "| Version             |Current Ver        |ver             |\n",
    "| Category            |Category           |prime_genre     |\n",
    "|Content Rating       |Content Rating     |cont_rating     |\n",
    "|Number of Reviews    |Reviews            |rating_count_ver|\n",
    "|Avg Rating           |Rating             |user_rating     |\n",
    "|Number of Installs   |Installs           |rating_count_tot|\n",
    "|Price in USD         |Price              |price           |\n",
    "|Type                 |Type               |                |   \n",
    "\n",
    "\n",
    "The dataset for the Apple Store does not include a field for the number of downloads or installs, so the 'rating_count_tot' (number of user ratings for all versions) will serve as a proxy. Similarily, we will use 'rating_count_ver' (number of user ratings for current version) as a proxy for Number of Reviews. The prices of all apps in both datasets are listed in USD.\n",
    "\n"
   ]
  },
  {
   "attachments": {},
   "cell_type": "markdown",
   "metadata": {},
   "source": [
    "#### Google Play Store"
   ]
  },
  {
   "cell_type": "code",
   "execution_count": 5,
   "metadata": {},
   "outputs": [
    {
     "name": "stdout",
     "output_type": "stream",
     "text": [
      "['App', 'Current Ver', 'Category', 'Content Rating', 'Reviews', 'Rating', 'Installs', 'Price', 'Type']\n",
      "\n",
      "\n",
      "['Photo Editor & Candy Camera & Grid & ScrapBook', '1.0.0', 'ART_AND_DESIGN', 'Everyone', '159', '4.1', '10,000+', '0', 'Free']\n",
      "\n",
      "\n"
     ]
    }
   ],
   "source": [
    "# Use list comprehension to extract the desired columns for android dataset\n",
    "# Assign the new list to useful_droid\n",
    "\n",
    "useful_droid = [[col[0],col[11],col[1],col[8],col[3],col[2],col[5],col[7],col[6]] for col in droid]\n",
    "\n",
    "# Print the header and first row of data to verify the results\n",
    "\n",
    "for row in useful_droid[:2]:\n",
    "    print(row)\n",
    "    print('\\n')"
   ]
  },
  {
   "attachments": {},
   "cell_type": "markdown",
   "metadata": {},
   "source": [
    "#### Apple App Store"
   ]
  },
  {
   "cell_type": "code",
   "execution_count": 6,
   "metadata": {},
   "outputs": [
    {
     "name": "stdout",
     "output_type": "stream",
     "text": [
      "['track_name', 'ver', 'prime_genre', 'cont_rating', 'rating_count_ver', 'user_rating', 'rating_count_tot', 'price']\n",
      "\n",
      "\n",
      "['Facebook', '95.0', 'Social Networking', '4+', '212', '3.5', '2974676', '0.0']\n",
      "\n",
      "\n"
     ]
    }
   ],
   "source": [
    "# Use list comprehension to extract the desired columns for apple dataset\n",
    "# Assign the new list to useful_ios\n",
    "\n",
    "useful_ios = [[col[1],col[9],col[11],col[10],col[6],col[7],col[5],col[4]] for col in ios]\n",
    "\n",
    "# Print the header and first row of data to verify the results\n",
    "\n",
    "for row in useful_ios[:2]:\n",
    "    print(row)\n",
    "    print('\\n')"
   ]
  },
  {
   "attachments": {},
   "cell_type": "markdown",
   "metadata": {},
   "source": [
    "### Transforming the Data\n",
    "\n",
    "* The Apple Store dataset does not contain a column to categorize apps as 'Paid' or 'Free', but we can use the price column to create this field."
   ]
  },
  {
   "cell_type": "code",
   "execution_count": 7,
   "metadata": {},
   "outputs": [
    {
     "name": "stdout",
     "output_type": "stream",
     "text": [
      "['track_name', 'ver', 'prime_genre', 'cont_rating', 'rating_count_ver', 'user_rating', 'rating_count_tot', 'price', 'type']\n"
     ]
    }
   ],
   "source": [
    "# Slice the header from the apple dataset\n",
    "ios_header = useful_ios[0]\n",
    "\n",
    "# Append the 'Type' column to the header row\n",
    "ios_header.append('type')\n",
    "print(ios_header)"
   ]
  },
  {
   "cell_type": "code",
   "execution_count": 8,
   "metadata": {},
   "outputs": [
    {
     "name": "stdout",
     "output_type": "stream",
     "text": [
      "[['Facebook', '95.0', 'Social Networking', '4+', '212', '3.5', '2974676', '0.0'], ['Instagram', '10.23', 'Photo & Video', '12+', '1289', '4.5', '2161558', '0.0'], ['Clash of Clans', '9.24.12', 'Games', '9+', '579', '4.5', '2130805', '0.0']]\n"
     ]
    }
   ],
   "source": [
    "# Slice the data from the apple dataset\n",
    "ios_data = useful_ios[1:]\n",
    "print(ios_data[:3])"
   ]
  },
  {
   "cell_type": "code",
   "execution_count": 9,
   "metadata": {},
   "outputs": [],
   "source": [
    "# Loop over ios_data\n",
    "# If the value of price is > 0, then append 'paid' to the new column\n",
    "# Otherwise append 'free' to the new column\n",
    "\n",
    "for row in ios_data:\n",
    "    p = row[-1]\n",
    "    if float(p)>0:\n",
    "        row.append('paid')\n",
    "    else:\n",
    "        row.append('free') "
   ]
  },
  {
   "attachments": {},
   "cell_type": "markdown",
   "metadata": {},
   "source": [
    "### Removing Paid Apps \n",
    "\n",
    "For this analysis, we must identify the categories where free apps are likely to attract a large number of users. Since we are only interested in free apps, we will remove all apps that are not categorized as free. Before we execute these changes, lets create a frequency table to examine the mix of 'free' vs. 'paid' apps."
   ]
  },
  {
   "attachments": {},
   "cell_type": "markdown",
   "metadata": {},
   "source": [
    "#### Google Play Store"
   ]
  },
  {
   "cell_type": "code",
   "execution_count": 10,
   "metadata": {},
   "outputs": [
    {
     "name": "stdout",
     "output_type": "stream",
     "text": [
      "[['App', 'Current Ver', 'Category', 'Content Rating', 'Reviews', 'Rating', 'Installs', 'Price', 'Type']]\n"
     ]
    }
   ],
   "source": [
    "# Isolate the data and header rows in droid dataset\n",
    "droid_header = useful_droid[:1]\n",
    "print(droid_header)\n",
    "droid_data = useful_droid[1:]"
   ]
  },
  {
   "cell_type": "code",
   "execution_count": 11,
   "metadata": {},
   "outputs": [],
   "source": [
    "# Create a frequency table to compare paid vs. free apps in droid dataset\n",
    "droid_frq_t = {}\n",
    "\n",
    "for row in droid_data:\n",
    "    type = row[-1]\n",
    "    if type in droid_frq_t:\n",
    "        droid_frq_t[type] += 1\n",
    "    else:\n",
    "        droid_frq_t[type] = 1"
   ]
  },
  {
   "cell_type": "code",
   "execution_count": 12,
   "metadata": {},
   "outputs": [
    {
     "data": {
      "image/png": "[encoded data removed]",
      "text/plain": [
       "<Figure size 640x480 with 1 Axes>"
      ]
     },
     "metadata": {},
     "output_type": "display_data"
    },
    {
     "name": "stdout",
     "output_type": "stream",
     "text": [
      "{'Free': 10039, 'Paid': 800, 'NaN': 1, '0': 1}\n"
     ]
    }
   ],
   "source": [
    "# Create a bar chart to examine the mix of free vs. paid apps\n",
    "plt.bar(droid_frq_t.keys(),droid_frq_t.values())\n",
    "plt.title(\"Google Play Store: Free vs. Paid\")\n",
    "plt.show()\n",
    "print(droid_frq_t)"
   ]
  },
  {
   "attachments": {},
   "cell_type": "markdown",
   "metadata": {},
   "source": [
    "The previous chart illustrates a majority of the apps in Google Play Store are free. It also indicates two records in our sample data likely contain errors."
   ]
  },
  {
   "cell_type": "code",
   "execution_count": 13,
   "metadata": {},
   "outputs": [
    {
     "name": "stdout",
     "output_type": "stream",
     "text": [
      "[['App', 'Current Ver', 'Category', 'Content Rating', 'Reviews', 'Rating', 'Installs', 'Price', 'Type']]\n",
      "\n",
      "\n",
      "[['Command & Conquer: Rivals', 'Varies with device', 'FAMILY', 'Everyone 10+', '0', 'NaN', '0', '0', 'NaN']]\n",
      "\n",
      "\n",
      "[['Life Made WI-Fi Touchscreen Photo Frame', '4.0 and up', '1.9', '', '3.0M', '19', 'Free', 'Everyone', '0']]\n"
     ]
    }
   ],
   "source": [
    "# Examine records that are not categorized as 'Free' or 'Paid'\n",
    "\n",
    "not_a_num = [row for row in droid_data if row[-1]=='NaN']\n",
    "zero = [row for row in droid_data if row[-1]=='0']\n",
    "print(droid_header)\n",
    "print('\\n')\n",
    "print(not_a_num)\n",
    "print('\\n')\n",
    "print(zero)\n",
    "\n",
    "# Rows that contain 'NaN and '0' contain erroneous data"
   ]
  },
  {
   "cell_type": "code",
   "execution_count": 14,
   "metadata": {},
   "outputs": [],
   "source": [
    "# Use list comprehension to select free android apps, assign to free_droid\n",
    "\n",
    "free_droid = [row for row in droid_data if row[-1]=='Free']"
   ]
  },
  {
   "attachments": {},
   "cell_type": "markdown",
   "metadata": {},
   "source": [
    "#### Apple App Store"
   ]
  },
  {
   "cell_type": "code",
   "execution_count": 15,
   "metadata": {},
   "outputs": [],
   "source": [
    "# Create a frequency table to compare paid vs. free apps in apple dataset\n",
    "\n",
    "ios_frq_cur = {}\n",
    "\n",
    "for row in ios_data:\n",
    "    type = row[-1]\n",
    "    if type in ios_frq_cur:\n",
    "        ios_frq_cur[type] += 1\n",
    "    else:\n",
    "        ios_frq_cur[type] = 1"
   ]
  },
  {
   "cell_type": "code",
   "execution_count": 16,
   "metadata": {},
   "outputs": [
    {
     "data": {
      "image/png": "[encoded data removed]",
      "text/plain": [
       "<Figure size 640x480 with 1 Axes>"
      ]
     },
     "metadata": {},
     "output_type": "display_data"
    },
    {
     "name": "stdout",
     "output_type": "stream",
     "text": [
      "{'free': 4056, 'paid': 3141}\n"
     ]
    }
   ],
   "source": [
    "# Generate a frequency table\n",
    "\n",
    "plt.bar(ios_frq_cur.keys(),ios_frq_cur.values())\n",
    "plt.title(\"Apple App Store: Free vs. Paid\")\n",
    "plt.show()\n",
    "print(ios_frq_cur)"
   ]
  },
  {
   "attachments": {},
   "cell_type": "markdown",
   "metadata": {},
   "source": [
    "The chart above illustrates the mix of free vs. paid apps is more balanced in the Apple App Store. By eliminating paid apps from our dataset, we are significantly reducing our sample size."
   ]
  },
  {
   "cell_type": "code",
   "execution_count": 17,
   "metadata": {},
   "outputs": [],
   "source": [
    "# Use list comprehension to isolate the free apps \n",
    "\n",
    "free_ios = [row for row in ios_data if row[-1]=='free']"
   ]
  },
  {
   "attachments": {},
   "cell_type": "markdown",
   "metadata": {},
   "source": [
    "### Removing Duplicates\n"
   ]
  },
  {
   "attachments": {},
   "cell_type": "markdown",
   "metadata": {},
   "source": [
    "#### Google Play Store"
   ]
  },
  {
   "cell_type": "code",
   "execution_count": 18,
   "metadata": {},
   "outputs": [
    {
     "name": "stdout",
     "output_type": "stream",
     "text": [
      "Number of Duplicate Droid Apps: 1135\n"
     ]
    }
   ],
   "source": [
    "# Loop through the rows in free_droid and count the number of duplicates\n",
    "\n",
    "unique_droid_apps = []\n",
    "duplicate_droid_apps = []\n",
    "\n",
    "for app in free_droid:\n",
    "    name = app[0]\n",
    "    if name in unique_droid_apps:\n",
    "        duplicate_droid_apps.append(name)\n",
    "    else:\n",
    "        unique_droid_apps.append(name)\n",
    "\n",
    "print(f'Number of Duplicate Droid Apps: {len(duplicate_droid_apps)}')\n"
   ]
  },
  {
   "cell_type": "code",
   "execution_count": 19,
   "metadata": {},
   "outputs": [],
   "source": [
    "# Initialize an empty dictionry\n",
    "# Loop over the free_droid list, populate the dictionary with the max number of reviews for each app\n",
    "\n",
    "max_reviews = {}\n",
    "\n",
    "for app in free_droid:\n",
    "    name = app[0]\n",
    "    num_reviews = float(app[4])\n",
    "    \n",
    "    if name in max_reviews and max_reviews[name] < num_reviews:\n",
    "        max_reviews[name] = num_reviews\n",
    "        \n",
    "    elif name not in max_reviews:\n",
    "        max_reviews[name] = num_reviews"
   ]
  },
  {
   "cell_type": "code",
   "execution_count": 20,
   "metadata": {},
   "outputs": [],
   "source": [
    "# Use the dictionary to filter out duplicate Android apps with max reviews and append to droid_clean list\n",
    "\n",
    "droid_clean = []\n",
    "droid_dupl = []\n",
    "\n",
    "for app in free_droid:\n",
    "    name = app[0]\n",
    "    n_reviews = float(app[4])\n",
    "    \n",
    "    if (max_reviews[name] == n_reviews) and (name not in droid_dupl):\n",
    "        droid_clean.append(app)\n",
    "        droid_dupl.append(name) "
   ]
  },
  {
   "cell_type": "code",
   "execution_count": 21,
   "metadata": {},
   "outputs": [
    {
     "name": "stdout",
     "output_type": "stream",
     "text": [
      "[['Photo Editor & Candy Camera & Grid & ScrapBook', '1.0.0', 'ART_AND_DESIGN', 'Everyone', '159', '4.1', '10,000+', '0', 'Free'], ['U Launcher Lite – FREE Live Cool Themes, Hide Apps', '1.2.4', 'ART_AND_DESIGN', 'Everyone', '87510', '4.7', '5,000,000+', '0', 'Free']]\n"
     ]
    }
   ],
   "source": [
    "print(droid_clean[:2])"
   ]
  },
  {
   "attachments": {},
   "cell_type": "markdown",
   "metadata": {},
   "source": [
    "#### Apple App Store"
   ]
  },
  {
   "cell_type": "code",
   "execution_count": 22,
   "metadata": {},
   "outputs": [
    {
     "name": "stdout",
     "output_type": "stream",
     "text": [
      "Number of Duplicate iOS Apps: 2\n"
     ]
    }
   ],
   "source": [
    "# Loop through the rows in free_ios and count the number of duplicates\n",
    "\n",
    "unique_ios_apps = []\n",
    "duplicate_ios_apps = []\n",
    "\n",
    "for app in free_ios:\n",
    "    name = app[0]\n",
    "    if name in unique_ios_apps:\n",
    "        duplicate_ios_apps.append(name)\n",
    "    else:\n",
    "        unique_ios_apps.append(name)\n",
    "\n",
    "print(f'Number of Duplicate iOS Apps: {len(duplicate_ios_apps)}')        \n"
   ]
  },
  {
   "cell_type": "code",
   "execution_count": 23,
   "metadata": {},
   "outputs": [],
   "source": [
    "# Initialize an empty dictionry\n",
    "# Loop over the free_ios list, populate the dictionary with the max number of reviews for each app\n",
    "\n",
    "max_reviews = {}\n",
    "\n",
    "for app in free_ios:\n",
    "    name = app[0]\n",
    "    num_reviews = float(app[4])\n",
    "    \n",
    "    if name in max_reviews and max_reviews[name] < num_reviews:\n",
    "        max_reviews[name] = num_reviews\n",
    "        \n",
    "    elif name not in max_reviews:\n",
    "        max_reviews[name] = num_reviews"
   ]
  },
  {
   "cell_type": "code",
   "execution_count": 24,
   "metadata": {},
   "outputs": [],
   "source": [
    "# Use the dictionary to filter out duplicate ios apps with max reviews and append to ios_clean list\n",
    "\n",
    "ios_clean = []\n",
    "ios_dupl = []\n",
    "\n",
    "for app in free_ios:\n",
    "    name = app[0]\n",
    "    n_reviews = float(app[4])\n",
    "    \n",
    "    if (max_reviews[name] == n_reviews) and (name not in ios_dupl):\n",
    "        ios_clean.append(app)\n",
    "        ios_dupl.append(name) "
   ]
  },
  {
   "cell_type": "code",
   "execution_count": 27,
   "metadata": {},
   "outputs": [
    {
     "name": "stdout",
     "output_type": "stream",
     "text": [
      "[['Facebook', '95.0', 'Social Networking', '4+', '212', '3.5', '2974676', '0.0', 'free'], ['Instagram', '10.23', 'Photo & Video', '12+', '1289', '4.5', '2161558', '0.0', 'free']]\n"
     ]
    }
   ],
   "source": [
    "print(ios_clean[:2])"
   ]
  },
  {
   "attachments": {},
   "cell_type": "markdown",
   "metadata": {},
   "source": [
    "### Removing Foreign Apps\n",
    "\n",
    "Our analysis is directed towards apps for users in the United States, so we can safety eliminate foreign apps from our analysis.\n"
   ]
  },
  {
   "cell_type": "code",
   "execution_count": 25,
   "metadata": {},
   "outputs": [
    {
     "name": "stdout",
     "output_type": "stream",
     "text": [
      "[['Photo Editor & Candy Camera & Grid & ScrapBook', '1.0.0', 'ART_AND_DESIGN', 'Everyone', '159', '4.1', '10,000+', '0', 'Free'], ['Coloring book moana', '2.0.0', 'ART_AND_DESIGN', 'Everyone', '967', '3.9', '500,000+', '0', 'Free'], ['U Launcher Lite – FREE Live Cool Themes, Hide Apps', '1.2.4', 'ART_AND_DESIGN', 'Everyone', '87510', '4.7', '5,000,000+', '0', 'Free']]\n"
     ]
    }
   ],
   "source": [
    "print(free_droid[:3])"
   ]
  },
  {
   "cell_type": "code",
   "execution_count": 26,
   "metadata": {},
   "outputs": [
    {
     "name": "stdout",
     "output_type": "stream",
     "text": [
      "[['Facebook', '95.0', 'Social Networking', '4+', '212', '3.5', '2974676', '0.0', 'free'], ['Instagram', '10.23', 'Photo & Video', '12+', '1289', '4.5', '2161558', '0.0', 'free'], ['Clash of Clans', '9.24.12', 'Games', '9+', '579', '4.5', '2130805', '0.0', 'free']]\n"
     ]
    }
   ],
   "source": [
    "print(free_ios[:3])"
   ]
  },
  {
   "cell_type": "code",
   "execution_count": null,
   "metadata": {},
   "outputs": [],
   "source": []
  },
  {
   "cell_type": "markdown",
   "metadata": {},
   "source": []
  }
 ],
 "metadata": {
  "kernelspec": {
   "display_name": "a_python",
   "language": "python",
   "name": "python3"
  },
  "language_info": {
   "codemirror_mode": {
    "name": "ipython",
    "version": 3
   },
   "file_extension": ".py",
   "mimetype": "text/x-python",
   "name": "python",
   "nbconvert_exporter": "python",
   "pygments_lexer": "ipython3",
   "version": "3.9.15"
  },
  "orig_nbformat": 4,
  "vscode": {
   "interpreter": {
    "hash": "63b420b966f2dc8b0d6d7934759b4fefabb7c83936e917f32fbbc86e3a2390e1"
   }
  }
 },
 "nbformat": 4,
 "nbformat_minor": 2
}
