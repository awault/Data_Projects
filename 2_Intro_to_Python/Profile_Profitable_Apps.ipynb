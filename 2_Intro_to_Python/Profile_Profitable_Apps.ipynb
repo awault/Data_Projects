{
 "cells": [
  {
   "attachments": {},
   "cell_type": "markdown",
   "metadata": {},
   "source": [
    "# Project 2: Profiles of Profitable Apps"
   ]
  },
  {
   "attachments": {},
   "cell_type": "markdown",
   "metadata": {},
   "source": [
    "Objective: Analyze data from Google Play and Apples App Store to determine which type of free apps are most likely to attract a high volume of users. Make a recommendation for the best app categories to target with free apps utilizing an ad-based revenue model."
   ]
  },
  {
   "attachments": {},
   "cell_type": "markdown",
   "metadata": {},
   "source": [
    "## Import Modules"
   ]
  },
  {
   "cell_type": "code",
   "execution_count": 84,
   "metadata": {},
   "outputs": [],
   "source": [
    "from csv import reader"
   ]
  },
  {
   "attachments": {},
   "cell_type": "markdown",
   "metadata": {},
   "source": [
    "## Import Data\n",
    "\n",
    "The data for this analysis was provided in csv files. Define a function to read the data from csv files. Create an option to preview the headers and view the first two rows of data. Determine the number of rows and columns in each dataset."
   ]
  },
  {
   "cell_type": "code",
   "execution_count": 85,
   "metadata": {},
   "outputs": [],
   "source": [
    "# Define a function to read data from csv files\n",
    "\n",
    "def read_csv(file_name, preview=False):\n",
    "    with open(file_name,'r') as opened_file:\n",
    "        read_file = reader(opened_file)\n",
    "        all_rows = list(read_file)\n",
    "        header = all_rows[0]\n",
    "        data = all_rows[1:]\n",
    "        if preview:\n",
    "            print(\"Headers:\", header)\n",
    "            print('\\n')\n",
    "            for row in data[:2]:\n",
    "                print(row)\n",
    "                print('\\n')\n",
    "            print('\\n')\n",
    "            print(\"Number of Rows: \", len(data))\n",
    "            print('\\n')\n",
    "            print(\"Number of Columns: \", len(header))\n",
    "        else:\n",
    "            return all_rows"
   ]
  },
  {
   "attachments": {},
   "cell_type": "markdown",
   "metadata": {},
   "source": [
    "### Google Play Store\n",
    "\n",
    "The dataset for the Google Play Store was obtained from [Kaggle](https://www.kaggle.com/datasets/lava18/google-play-store-apps). \n",
    "\n",
    "The dataset contains 13 fields, a brief definition for each field is included below:\n",
    "\n",
    "\n",
    "1. 'App' : Application Name\n",
    "1. 'Category' : Application Category\n",
    "1. 'Rating' : Overall User Rating \n",
    "1. 'Reviews' : Number of User Reviews\n",
    "1. 'Size' : Size of the App\n",
    "1. 'Installs' : Number of User Downloads\n",
    "1. 'Type' : Paid or Free\n",
    "1. 'Price' : Price in USD\n",
    "1. 'Content Rating' : Target Age Group\n",
    "1. 'Genres' : Apps can be Classified in Multiple Genres\n",
    "1. 'Last Updated' : Date of Last Update\n",
    "1. 'Current Version' : Name of Current Version\n",
    "1. 'Android Version' : Minimum Android Version Required \n",
    "\n",
    "\n",
    "\n",
    "\n",
    " \n"
   ]
  },
  {
   "cell_type": "code",
   "execution_count": 86,
   "metadata": {},
   "outputs": [
    {
     "name": "stdout",
     "output_type": "stream",
     "text": [
      "Headers: ['App', 'Category', 'Rating', 'Reviews', 'Size', 'Installs', 'Type', 'Price', 'Content Rating', 'Genres', 'Last Updated', 'Current Ver', 'Android Ver']\n",
      "\n",
      "\n",
      "['Photo Editor & Candy Camera & Grid & ScrapBook', 'ART_AND_DESIGN', '4.1', '159', '19M', '10,000+', 'Free', '0', 'Everyone', 'Art & Design', 'January 7, 2018', '1.0.0', '4.0.3 and up']\n",
      "\n",
      "\n",
      "['Coloring book moana', 'ART_AND_DESIGN', '3.9', '967', '14M', '500,000+', 'Free', '0', 'Everyone', 'Art & Design;Pretend Play', 'January 15, 2018', '2.0.0', '4.0.3 and up']\n",
      "\n",
      "\n",
      "\n",
      "\n",
      "Number of Rows:  10841\n",
      "\n",
      "\n",
      "Number of Columns:  13\n",
      "\n",
      "\n",
      "Data Type: <class 'list'>\n"
     ]
    }
   ],
   "source": [
    "# Preview the data from Google Play Store\n",
    "read_csv('googleplaystore.csv',preview=True)\n",
    "# Assign the data to the variable android\n",
    "android = read_csv('googleplaystore.csv')\n",
    "print('\\n')\n",
    "# Examine the data type\n",
    "print(f'Data Type: {type(android)}')"
   ]
  },
  {
   "attachments": {},
   "cell_type": "markdown",
   "metadata": {},
   "source": [
    "### Apple App Store\n",
    "\n",
    "The dataset for the Apple App Store was also obtained from [Kaggle](https://www.kaggle.com/datasets/ramamet4/app-store-apple-data-set-10k-apps). \n",
    "\n",
    "The dataset contains 16 fields, a brief definition for each field is included below:\n",
    "\n",
    "1. 'id' : App ID\n",
    "1. 'track_name' : App Name\n",
    "1. 'size_bytes' : Download Size in Bytes\n",
    "1. 'currency' : Transaction Currency Used\n",
    "1. 'price' : Purchase Price\n",
    "1. 'rating_count_tot' : User Rating Counts (All Versions)\n",
    "1. 'rating_count_ver' : User Rating Counts (Current Version)\n",
    "1. 'user_rating' : Average User Rating (All Versions)\n",
    "1. 'user_rating_ver' : Average User Rating (Current Version)\n",
    "1. 'ver' : Latest Version Code\n",
    "1. 'cont_rating' : Target Age Group\n",
    "1. 'prime_genre' : Primary Genre\n",
    "1. 'sup_devices.num' : Number of Devices Supported\n",
    "1. 'ipadSc_urls.num' : Number of Screenshots Displayed\n",
    "1. 'lang.num' : Number of Supported Languages\n",
    "1. 'vpp_lic' : VPP Device based Licensing Enabled \n"
   ]
  },
  {
   "cell_type": "code",
   "execution_count": 87,
   "metadata": {},
   "outputs": [
    {
     "name": "stdout",
     "output_type": "stream",
     "text": [
      "Headers: ['id', 'track_name', 'size_bytes', 'currency', 'price', 'rating_count_tot', 'rating_count_ver', 'user_rating', 'user_rating_ver', 'ver', 'cont_rating', 'prime_genre', 'sup_devices.num', 'ipadSc_urls.num', 'lang.num', 'vpp_lic']\n",
      "\n",
      "\n",
      "['284882215', 'Facebook', '389879808', 'USD', '0.0', '2974676', '212', '3.5', '3.5', '95.0', '4+', 'Social Networking', '37', '1', '29', '1']\n",
      "\n",
      "\n",
      "['389801252', 'Instagram', '113954816', 'USD', '0.0', '2161558', '1289', '4.5', '4.0', '10.23', '12+', 'Photo & Video', '37', '0', '29', '1']\n",
      "\n",
      "\n",
      "\n",
      "\n",
      "Number of Rows:  7197\n",
      "\n",
      "\n",
      "Number of Columns:  16\n",
      "\n",
      "\n",
      "Data Type: <class 'list'>\n"
     ]
    }
   ],
   "source": [
    "# Preview the data from the Apple App Store\n",
    "read_csv('AppleStore.csv',preview=True)\n",
    "# Assign the data to the variable apple\n",
    "apple = read_csv('AppleStore.csv')\n",
    "print('\\n')\n",
    "# Examine the data type\n",
    "print(f'Data Type: {type(apple)}')"
   ]
  },
  {
   "attachments": {},
   "cell_type": "markdown",
   "metadata": {},
   "source": [
    "# Cleaning the Data \n",
    "\n",
    "Determine which fields(columns) will be useful for the analysis. Remove duplicate entries and invalid records. Transform the data into the format which is most suitable."
   ]
  },
  {
   "cell_type": "code",
   "execution_count": 88,
   "metadata": {},
   "outputs": [
    {
     "name": "stdout",
     "output_type": "stream",
     "text": [
      "Google Play Store Records: 10842\n",
      "Apple App Store Records: 7198\n"
     ]
    }
   ],
   "source": [
    "# Examine the number of records in each data set\n",
    "print(f'Google Play Store Records: {len(android)}')\n",
    "print(f'Apple App Store Records: {len(apple)}')"
   ]
  },
  {
   "attachments": {},
   "cell_type": "markdown",
   "metadata": {},
   "source": [
    "In the previous section, we imported the data and reviewed the structure of each dataset. Now, lets identify which columns will be useful for our analysis.\n",
    "\n",
    "As a reminder, we want to identify the types of free apps most likely to attract alot of users.\n",
    "\n",
    "Since the two datasets are not identical, we should include comparable fields covered by both datasets.\n",
    "\n",
    "\n",
    "The key attributes to examine for each app are as follows:\n",
    "\n",
    "* App Name\n",
    "* App Version\n",
    "* Category / Genre\n",
    "* Content Rating\n",
    "* Number of Reviews\n",
    "* Average Rating\n",
    "* Number of Installs\n",
    "* Price in USD\n",
    "* Free or Paid\n"
   ]
  },
  {
   "cell_type": "code",
   "execution_count": 89,
   "metadata": {},
   "outputs": [
    {
     "name": "stdout",
     "output_type": "stream",
     "text": [
      "['App', 'Current Ver', 'Category', 'Content Rating', 'Reviews', 'Rating', 'Installs', 'Price', 'Type']\n",
      "\n",
      "\n",
      "['Photo Editor & Candy Camera & Grid & ScrapBook', '1.0.0', 'ART_AND_DESIGN', 'Everyone', '159', '4.1', '10,000+', '0', 'Free']\n",
      "\n",
      "\n"
     ]
    }
   ],
   "source": [
    "# Use list comprehension to iterate over each row and extract the desired columns for android dataset\n",
    "\n",
    "clean_android = [[col[0],col[11],col[1],col[8],col[3],col[2],col[5],col[7],col[6]] for col in android]\n",
    "\n",
    "for row in clean_android[:2]:\n",
    "    print(row)\n",
    "    print('\\n')\n"
   ]
  },
  {
   "cell_type": "code",
   "execution_count": 90,
   "metadata": {},
   "outputs": [
    {
     "name": "stdout",
     "output_type": "stream",
     "text": [
      "['track_name', 'ver', 'prime_genre', 'cont_rating', 'rating_count_ver', 'user_rating_ver', 'rating_count_tot', 'price']\n",
      "\n",
      "\n",
      "['Facebook', '95.0', 'Social Networking', '4+', '212', '3.5', '2974676', '0.0']\n",
      "\n",
      "\n"
     ]
    }
   ],
   "source": [
    "# Use list comprehension to iterate over each row and extract the desired columns for apple dataset\n",
    "\n",
    "clean_apple = [[col[1],col[9],col[11],col[10],col[6],col[8],col[5],col[4]] for col in apple]\n",
    "\n",
    "for row in clean_apple[:2]:\n",
    "    print(row)\n",
    "    print('\\n')"
   ]
  },
  {
   "attachments": {},
   "cell_type": "markdown",
   "metadata": {},
   "source": [
    "Although Apps in the Apple Store dataset are not classified as 'Paid' or 'Free', we can use the price column to create this field."
   ]
  },
  {
   "cell_type": "code",
   "execution_count": 91,
   "metadata": {},
   "outputs": [
    {
     "name": "stdout",
     "output_type": "stream",
     "text": [
      "['track_name', 'ver', 'prime_genre', 'cont_rating', 'rating_count_ver', 'user_rating_ver', 'rating_count_tot', 'price', 'Type']\n"
     ]
    }
   ],
   "source": [
    "# Append the new column title to the header row\n",
    "clean_apple_header = clean_apple[0]\n",
    "clean_apple_header.append('Type')\n",
    "print(clean_apple_header)"
   ]
  },
  {
   "cell_type": "code",
   "execution_count": 92,
   "metadata": {},
   "outputs": [
    {
     "name": "stdout",
     "output_type": "stream",
     "text": [
      "['Facebook', '95.0', 'Social Networking', '4+', '212', '3.5', '2974676', '0.0']\n"
     ]
    }
   ],
   "source": [
    "clean_apple_data = clean_apple[1:]\n",
    "print(clean_apple_data[0])\n",
    "\n",
    "\n"
   ]
  },
  {
   "cell_type": "code",
   "execution_count": null,
   "metadata": {},
   "outputs": [],
   "source": []
  }
 ],
 "metadata": {
  "kernelspec": {
   "display_name": "a_python",
   "language": "python",
   "name": "python3"
  },
  "language_info": {
   "codemirror_mode": {
    "name": "ipython",
    "version": 3
   },
   "file_extension": ".py",
   "mimetype": "text/x-python",
   "name": "python",
   "nbconvert_exporter": "python",
   "pygments_lexer": "ipython3",
   "version": "3.9.15"
  },
  "orig_nbformat": 4,
  "vscode": {
   "interpreter": {
    "hash": "63b420b966f2dc8b0d6d7934759b4fefabb7c83936e917f32fbbc86e3a2390e1"
   }
  }
 },
 "nbformat": 4,
 "nbformat_minor": 2
}
