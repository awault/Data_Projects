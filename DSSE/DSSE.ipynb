{
 "cells": [
  {
   "attachments": {},
   "cell_type": "markdown",
   "metadata": {},
   "source": [
    "# Popular Topics in Data Science\n",
    "\n",
    "The objective of this project is to identify relevant and high-impact topics for a company that creates educational content in the field of data science.\n",
    "\n",
    "To accomplish our mission, we will need access to current data about the topics the data science community is most interested in. Fortunately, [Stack Exchange](https://stackexchange.com/) hosts dedicated sites where users can collaborate and learn about a multitude of topics, including mathematics, physics and data science. Users can pose questions to the community, provide answers to other questions and discuss a wide range of topics. Users can vote on questions and answers, which makes it easy to identify informative posts.\n",
    "\n",
    "Stack Exchange also maintains a public data base, which captures a wide variety of user activity. The [Stack Exchange Data Explorer (SEDE)](https://data.stackexchange.com/datascience/query/new) will allow us to write SQL queries to extract data, examine trends and formulate our insights to select the most relevant topics.\n",
    "\n",
    "For this project, we will explore questions and answers posted on [Data Science Stack Exchange](https://datascience.stackexchange.com/) during 2022.\n"
   ]
  },
  {
   "attachments": {},
   "cell_type": "markdown",
   "metadata": {},
   "source": [
    "## Import Modules"
   ]
  },
  {
   "cell_type": "code",
   "execution_count": 1,
   "metadata": {},
   "outputs": [],
   "source": [
    "import pandas as pd\n",
    "import numpy as np\n",
    "import matplotlib.pyplot as plt\n",
    "import seaborn as sns\n",
    "\n",
    "%matplotlib inline"
   ]
  },
  {
   "attachments": {},
   "cell_type": "markdown",
   "metadata": {},
   "source": [
    "## Load Data\n",
    "\n",
    "When it comes to current topics in the field of data science, the [SEDE](https://data.stackexchange.com/datascience/query/new) contains a trove of data. We will run some queries to explore the database and select the most relevant information.\n",
    "\n"
   ]
  },
  {
   "attachments": {},
   "cell_type": "markdown",
   "metadata": {},
   "source": [
    "### Tags\n",
    "\n",
    "When a user submits a question to Stack Exchange, they can select up to five tags or keywords to categorize and describe the nature of the question. `Tags` will be an important attribute to consider as we identify popular topics in data science. \n",
    "\n",
    "Below is a query for the 15 most frequently used tags on Data Science Stack Exchange. By joining the `Tags` and `Posts` tables, we can also extract `Excerpts` or descriptions for proper tag usage. \n",
    "\n",
    "\n",
    "```SQL\n",
    "SELECT TOP 15 \n",
    "       t.Id,\n",
    "       t.TagName,\n",
    "       t.Count,\n",
    "       REPLACE(REPLACE(p.Body, '<p>', ''), '</p>', '') AS Excerpt\n",
    "  FROM Tags t\n",
    "  JOIN Posts p ON p.Id = t.ExcerptPostId\n",
    " ORDER BY t.Count DESC;\n",
    "```\n",
    " \n",
    "\n",
    "The `tag_query_results.csv` file contains the results of this query.\n",
    "\n",
    "\n",
    "Although we identified the most frequently used tags, we need more granular information to determine the most relevant topics. In a rapidly evolving field, such as data science, tags that were popular several years ago may no longer be relevant."
   ]
  },
  {
   "cell_type": "markdown",
   "metadata": {},
   "source": [
    "\n",
    "Below is a query for the 15 most frequently used tags on Data Science Stack Exchange. By joining the `Tags` and `Posts` tables, we can also extract `Excerpts` or descriptions for proper tag usage. \n",
    "\n",
    "\n",
    "```SQL\n",
    "SELECT TOP 15 \n",
    "       t.Id,\n",
    "       t.TagName,\n",
    "       t.Count,\n",
    "       REPLACE(REPLACE(p.Body, '<p>', ''), '</p>', '') AS Excerpt\n",
    "  FROM Tags t\n",
    "  JOIN Posts p ON p.Id = t.ExcerptPostId\n",
    " ORDER BY t.Count DESC;\n",
    "```\n",
    " \n",
    "\n",
    "The `tag_query_results.csv` file contains the results of this query.\n",
    "\n",
    "\n",
    "Although we identified the most frequently used tags, we need more granular information to determine the most relevant topics. In a rapidly evolving field, such as data science, tags that were popular several years ago may no longer be relevant."
   ]
  },
  {
   "cell_type": "code",
   "execution_count": 2,
   "metadata": {},
   "outputs": [
    {
     "name": "stdout",
     "output_type": "stream",
     "text": [
      "15 Most Frequently Used Tags:\n",
      "\n",
      "\n",
      "     Id           TagName  Count\n",
      "0     2  machine-learning  11051\n",
      "1    46            python   6558\n",
      "2   194     deep-learning   4775\n",
      "3    81    neural-network   4280\n",
      "4    77    classification   3180\n",
      "5   324             keras   2728\n",
      "6    47               nlp   2553\n",
      "7   128      scikit-learn   2258\n",
      "8   321        tensorflow   2183\n",
      "9    72       time-series   1812\n",
      "10  157        regression   1544\n",
      "11   24                 r   1481\n",
      "12   61           dataset   1438\n",
      "13  557               cnn   1370\n",
      "14   15        clustering   1359\n",
      "\n",
      "\n",
      "Description for machine-learning tag:\n",
      "\n",
      "\n",
      "Machine Learning is a subfield of computer science that draws on elements from algorithmic analysis, computational statistics, mathematics, optimization, etc. It is mainly concerned with the use of data to construct models that have high predictive/forecasting ability. Topics include modeling building, applications, theory, etc.\n",
      "\n"
     ]
    }
   ],
   "source": [
    "tags = pd.read_csv(\"tag_query_results.csv\")\n",
    "print(\"15 Most Frequently Used Tags:\")\n",
    "print('\\n')\n",
    "print(tags.iloc[:,:-1]) # Excludes excerpt column\n",
    "print('\\n')\n",
    "print(\"Description for machine-learning tag:\")\n",
    "print('\\n')\n",
    "print(tags.iloc[0,-1]) # Print Excerpt for first row"
   ]
  },
  {
   "attachments": {},
   "cell_type": "markdown",
   "metadata": {},
   "source": [
    "### Posts\n",
    "\n",
    "There is alot of information in the Posts table. Lets write a query to examine the type of posts submitted to the Data Science Stack Exchange in 2022.\n",
    "\n",
    "```SQL\n",
    "SELECT PT.Id, \n",
    "       PT.Name,\n",
    "       COUNT(*) AS PostCount\n",
    "  FROM PostTypes AS PT\n",
    " INNER JOIN Posts AS P ON P.PostTypeId = PT.Id\n",
    " WHERE YEAR(P.CreationDate) = 2022\n",
    " GROUP BY PT.Id, PT.Name\n",
    " ORDER BY PT.Id ASC\n",
    " ```\n",
    "\n",
    "The `post_types_2022.csv` file contains the results of this query, which are displayed in the table below. Here we can see that 5,299 questions and 3,673 answers were submitted in 2022."
   ]
  },
  {
   "cell_type": "code",
   "execution_count": null,
   "metadata": {},
   "outputs": [],
   "source": [
    "post_types = pd.read_csv(\"post_types_2022.csv\")\n",
    "print(post_types)"
   ]
  },
  {
   "attachments": {},
   "cell_type": "markdown",
   "metadata": {},
   "source": [
    "Lets take a closer look at...\n",
    "\n",
    "Query of Top 3 Questions in 2022 by View Count:\n",
    "\n",
    "```SQL\n",
    "SELECT TOP 3 Id, PostTypeId, Title, ViewCount, Tags\n",
    "FROM Posts\n",
    "WHERE PostTypeId = 1 AND YEAR(CreationDate) = 2022\n",
    "ORDER BY ViewCount DESC\n",
    "```\n",
    "\n",
    "Query of Top 3 Answers in 2022 by ViewCount:\n",
    "\n",
    "```SQL\n",
    "SELECT TOP 3 Id, PostTypeId, Title, ViewCount, Tags\n",
    "FROM Posts\n",
    "WHERE PostTypeId = 2 AND YEAR(CreationDate) = 2022\n",
    "ORDER BY ViewCount DESC\n",
    "```\n",
    "\n",
    "Answers do not contain any information for:\n",
    "- Title\n",
    "- ViewCount\n",
    "- Tags\n",
    "\n",
    "Lets focus our analysis on questions posted to SEDE in 2022..."
   ]
  },
  {
   "attachments": {},
   "cell_type": "markdown",
   "metadata": {},
   "source": [
    "Now lets write a query to extract information about questions posted in 2022...\n",
    "\n",
    "```SQL\n",
    "SELECT ID, PostTypeId, CreationDate, Title, Tags, Score, \n",
    "       ViewCount, AnswerCount, FavoriteCount\n",
    "  FROM Posts\n",
    "  WHERE YEAR(CreationDate) = 2022 AND PostTypeId = 1\n",
    "```\n",
    "The `questions_2022.csv` file contains the results of this query."
   ]
  },
  {
   "cell_type": "code",
   "execution_count": null,
   "metadata": {},
   "outputs": [],
   "source": [
    "# Read csv file into a pandas dataframe, parse dates in CreationDate column\n",
    "\n",
    "questions = pd.read_csv(\"questions_2022.csv\",parse_dates=[\"CreationDate\"])"
   ]
  },
  {
   "cell_type": "code",
   "execution_count": null,
   "metadata": {},
   "outputs": [],
   "source": [
    "# Review summary of questions dataframe\n",
    "\n",
    "questions.info()\n",
    "\n",
    "# FavoriteCount is missing ALOT of values"
   ]
  },
  {
   "cell_type": "code",
   "execution_count": null,
   "metadata": {},
   "outputs": [],
   "source": [
    "print(questions.head(3))"
   ]
  },
  {
   "attachments": {},
   "cell_type": "markdown",
   "metadata": {},
   "source": [
    "## Clean Data\n",
    "- Title and Tags are classified as objects\n",
    "- Tags are enclosed in angle brackets\n",
    "- FavoriteCount is missing alot of data and classified as a float\n"
   ]
  },
  {
   "cell_type": "code",
   "execution_count": null,
   "metadata": {},
   "outputs": [],
   "source": [
    "# Use a lambda function to see what types of objects are in Title column\n",
    "questions[\"Title\"].apply(lambda value: type(value)).unique()"
   ]
  },
  {
   "cell_type": "code",
   "execution_count": null,
   "metadata": {},
   "outputs": [],
   "source": [
    "# Use a lambda function to see what types of objects are in Tags column\n",
    "questions[\"Tags\"].apply(lambda value: type(value)).unique()"
   ]
  },
  {
   "cell_type": "code",
   "execution_count": null,
   "metadata": {},
   "outputs": [],
   "source": [
    "# Remove angle brackets from Tags\n",
    "questions[\"Tags\"] = questions[\"Tags\"].str.replace(\"^<|>$\", \"\",regex=True).str.split(\"><\")\n",
    "print(questions.head(3))\n",
    "\n"
   ]
  },
  {
   "cell_type": "code",
   "execution_count": null,
   "metadata": {},
   "outputs": [],
   "source": [
    "# Fill in null values in FavoriteCount\n",
    "questions.fillna(value={\"FavoriteCount\": 0}, inplace=True) \n",
    "\n",
    "# Convert FavoriteCount datatype to integer\n",
    "questions[\"FavoriteCount\"] = questions[\"FavoriteCount\"].astype(int) \n",
    "\n",
    "questions.dtypes\n",
    "\n"
   ]
  },
  {
   "attachments": {},
   "cell_type": "markdown",
   "metadata": {},
   "source": [
    "Summarize data cleaning here..."
   ]
  },
  {
   "attachments": {},
   "cell_type": "markdown",
   "metadata": {},
   "source": [
    "## Popular Tags\n",
    "\n",
    "Most used and most viewed tags...\n"
   ]
  },
  {
   "attachments": {},
   "cell_type": "markdown",
   "metadata": {},
   "source": [
    "### Frequently Used Tags"
   ]
  },
  {
   "cell_type": "code",
   "execution_count": null,
   "metadata": {},
   "outputs": [],
   "source": [
    "# Create a dictionary to count the frequency of tag usage\n",
    "\n",
    "tag_count = dict()\n",
    "\n",
    "for tags in questions[\"Tags\"]:\n",
    "    for tag in tags:\n",
    "        if tag in tag_count:\n",
    "            tag_count[tag] += 1\n",
    "        else:\n",
    "            tag_count[tag] = 1\n",
    "\n",
    "# Convert the dictionary to dataframe\n",
    "\n",
    "tag_count = pd.DataFrame.from_dict(tag_count, orient=\"index\")\n",
    "\n",
    "tag_count"
   ]
  },
  {
   "cell_type": "code",
   "execution_count": null,
   "metadata": {},
   "outputs": [],
   "source": [
    "# Rename column to Count\n",
    "tag_count.rename(columns={0: \"Count\"}, inplace=True)\n",
    "\n",
    "# Sort Values in Descending Order, Display Top 10\n",
    "most_used = tag_count.sort_values(by=\"Count\",ascending=False).head(10)\n",
    "most_used"
   ]
  },
  {
   "cell_type": "code",
   "execution_count": null,
   "metadata": {},
   "outputs": [],
   "source": [
    "# Plot a horizontal bar chart to visualize frequency of tag usage\n",
    "\n",
    "most_used.plot(kind=\"barh\")\n",
    "plt.title(\"Frequently Used Tags in 2022\")\n",
    "plt.show()"
   ]
  },
  {
   "attachments": {},
   "cell_type": "markdown",
   "metadata": {},
   "source": [
    "### Frequently Viewed Tags"
   ]
  },
  {
   "cell_type": "code",
   "execution_count": null,
   "metadata": {},
   "outputs": [],
   "source": [
    "# Create a dictionary to aggregate view counts for each tag \n",
    "\n",
    "tag_view_count = dict()\n",
    "\n",
    "for index, row in questions.iterrows():\n",
    "    for tag in row['Tags']:\n",
    "        if tag in tag_view_count:\n",
    "            tag_view_count[tag] += row['ViewCount']\n",
    "        else:\n",
    "            tag_view_count[tag] = row['ViewCount']\n",
    "\n",
    "# Convert the dictionary to a dataframe\n",
    "tag_view_count = pd.DataFrame.from_dict(tag_view_count, orient=\"index\")\n",
    "\n",
    "tag_view_count"
   ]
  },
  {
   "cell_type": "code",
   "execution_count": null,
   "metadata": {},
   "outputs": [],
   "source": [
    "# Rename column to ViewCount\n",
    "tag_view_count.rename(columns={0: \"ViewCount\"}, inplace=True)\n",
    "\n",
    "# Sort Values in Descending Order, Display Top 10\n",
    "most_viewed = tag_view_count.sort_values(by=\"ViewCount\",ascending=False).head(10)\n",
    "most_viewed\n"
   ]
  },
  {
   "cell_type": "code",
   "execution_count": null,
   "metadata": {},
   "outputs": [],
   "source": [
    "# Plot a horizontal bar chart to visualize frequency of tag views\n",
    "\n",
    "most_viewed.plot(kind=\"barh\")\n",
    "plt.title(\"Frequently Viewed Tags in 2022\")\n",
    "plt.show()"
   ]
  },
  {
   "cell_type": "code",
   "execution_count": null,
   "metadata": {},
   "outputs": [],
   "source": [
    "\n",
    "\n",
    "fig, axes = plt.subplots(nrows=1, ncols=2)\n",
    "fig.set_size_inches((24, 10))\n",
    "plt.suptitle(\"Popular Tags in 2022\")\n",
    "most_used.plot(kind=\"barh\", ax=axes[0], subplots=True)\n",
    "axes[0].set_title(\"Frequently Used Tags\")\n",
    "most_viewed.plot(kind=\"barh\", ax=axes[1], subplots=True)\n",
    "axes[1].set_title(\"Frequently Viewed Tags\")\n",
    "plt.show()\n",
    "\n"
   ]
  },
  {
   "attachments": {},
   "cell_type": "markdown",
   "metadata": {},
   "source": [
    "### Related Tags"
   ]
  },
  {
   "cell_type": "code",
   "execution_count": null,
   "metadata": {},
   "outputs": [],
   "source": [
    "# Create a list that contains all tags from tag_count dictionary\n",
    "\n",
    "all_tags = list(tag_count.index)\n",
    "\n",
    "# Create an empty dataframe, use the all_tags list to label rows and columns\n",
    "\n",
    "co_occurence = pd.DataFrame(index=all_tags, columns=all_tags)\n",
    "co_occurence.iloc[0:4,0:4]\n",
    "\n"
   ]
  },
  {
   "cell_type": "code",
   "execution_count": null,
   "metadata": {},
   "outputs": [],
   "source": [
    "# Create a co-occurence matrix to examine tag relationships\n",
    "\n",
    "co_occurence.fillna(0, inplace=True)\n",
    "\n",
    "for tags in questions[\"Tags\"]:\n",
    "    co_occurence.loc[tags, tags] += 1\n",
    "\n",
    "co_occurence.iloc[0:4,0:4]\n"
   ]
  },
  {
   "cell_type": "code",
   "execution_count": null,
   "metadata": {},
   "outputs": [],
   "source": [
    "co_occurence_most_used = co_occurence.loc[most_used.index, most_used.index]"
   ]
  },
  {
   "cell_type": "code",
   "execution_count": null,
   "metadata": {},
   "outputs": [],
   "source": [
    "co_occurence_most_used"
   ]
  },
  {
   "cell_type": "code",
   "execution_count": null,
   "metadata": {},
   "outputs": [],
   "source": [
    "# Remove all instances where a tag co-occurs with itself\n",
    "\n",
    "for i in range(co_occurence_most_used.shape[0]):\n",
    "    co_occurence_most_used.iloc[i,i] = np.NaN\n",
    "\n"
   ]
  },
  {
   "cell_type": "code",
   "execution_count": null,
   "metadata": {},
   "outputs": [],
   "source": [
    "# Create a heatmap of co-occurences with seaborn\n",
    "\n",
    "sns.heatmap(co_occurence_most_used, cmap=\"Greens\",annot=False)"
   ]
  },
  {
   "attachments": {},
   "cell_type": "markdown",
   "metadata": {},
   "source": [
    "## Tag Trends\n",
    "\n",
    "```SQL\n",
    "SELECT Id, CreationDate, Tags\n",
    "  FROM Posts\n",
    " WHERE PostTypeId = 1;\n",
    "```"
   ]
  },
  {
   "cell_type": "code",
   "execution_count": null,
   "metadata": {},
   "outputs": [],
   "source": [
    "all_qs = pd.read_csv(\"tag_trends.csv\", parse_dates=[\"CreationDate\"])\n",
    "print(all_qs.head(3))\n",
    "\n",
    "all_qs[\"Tags\"].apply(lambda value: type(value)).unique()\n"
   ]
  },
  {
   "cell_type": "code",
   "execution_count": null,
   "metadata": {},
   "outputs": [],
   "source": [
    "# Clean angle brackets from the tags column\n",
    "\n",
    "all_qs[\"Tags\"] = all_qs[\"Tags\"].str.replace(\"^<|>$\", \"\",regex=True).str.split(\"><\")\n",
    "\n",
    "all_qs[\"Tags\"]"
   ]
  },
  {
   "cell_type": "code",
   "execution_count": null,
   "metadata": {},
   "outputs": [],
   "source": []
  }
 ],
 "metadata": {
  "kernelspec": {
   "display_name": "a_python",
   "language": "python",
   "name": "python3"
  },
  "language_info": {
   "codemirror_mode": {
    "name": "ipython",
    "version": 3
   },
   "file_extension": ".py",
   "mimetype": "text/x-python",
   "name": "python",
   "nbconvert_exporter": "python",
   "pygments_lexer": "ipython3",
   "version": "3.9.15"
  },
  "orig_nbformat": 4,
  "vscode": {
   "interpreter": {
    "hash": "63b420b966f2dc8b0d6d7934759b4fefabb7c83936e917f32fbbc86e3a2390e1"
   }
  }
 },
 "nbformat": 4,
 "nbformat_minor": 2
}
